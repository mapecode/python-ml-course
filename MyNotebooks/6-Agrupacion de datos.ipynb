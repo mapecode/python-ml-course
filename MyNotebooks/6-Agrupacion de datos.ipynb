{
 "nbformat": 4,
 "nbformat_minor": 2,
 "metadata": {
  "language_info": {
   "name": "python",
   "codemirror_mode": {
    "name": "ipython",
    "version": 3
   },
   "version": "3.7.6-final"
  },
  "orig_nbformat": 2,
  "file_extension": ".py",
  "mimetype": "text/x-python",
  "name": "python",
  "npconvert_exporter": "python",
  "pygments_lexer": "ipython3",
  "version": 3,
  "kernelspec": {
   "name": "python37664bitea6a0a427b5a48de8969fa56a6df37f4",
   "display_name": "Python 3.7.6 64-bit"
  }
 },
 "cells": [
  {
   "cell_type": "markdown",
   "metadata": {},
   "source": [
    "# Agrupación de datos"
   ]
  },
  {
   "cell_type": "code",
   "execution_count": 2,
   "metadata": {},
   "outputs": [],
   "source": [
    "import numpy as np \n",
    "import pandas as pd\n",
    "import matplotlib.pyplot as plt"
   ]
  },
  {
   "cell_type": "markdown",
   "metadata": {},
   "source": [
    "## Agregación de datos por categoría"
   ]
  },
  {
   "cell_type": "code",
   "execution_count": 4,
   "metadata": {},
   "outputs": [],
   "source": [
    "gender = ('Male', 'Female')\n",
    "income = ('Poor', 'Middle Class', 'Rich') # Nivel de ingresos"
   ]
  },
  {
   "cell_type": "code",
   "execution_count": 5,
   "metadata": {},
   "outputs": [],
   "source": [
    "n = 500\n",
    "gender_data = []\n",
    "income_data = []\n",
    "\n",
    "for i in range(0, 500):\n",
    "    gender_data.append(np.random.choice(gender))\n",
    "    income_data.append(np.random.choice(income))"
   ]
  },
  {
   "cell_type": "code",
   "execution_count": 6,
   "metadata": {},
   "outputs": [],
   "source": [
    "# Z -> N(0,1)\n",
    "# N(m,s) -> m + s * >\n",
    "height = 160 + 30 * np.random.randn(n)\n",
    "weight = 65 + 25 * np.random.randn(n)\n",
    "age = 30 + 12 * np.random.randn(n)\n",
    "income = 18000 + 3500 * np.random.rand(n)"
   ]
  },
  {
   "cell_type": "code",
   "execution_count": 7,
   "metadata": {},
   "outputs": [],
   "source": [
    "data = pd.DataFrame(\n",
    "    {\n",
    "        'Gender' : gender_data,\n",
    "        'Economic Status' : income_data,\n",
    "        'Height' : height,\n",
    "        'Weight' : weight,\n",
    "        'Age' : age,\n",
    "        'Income' : income\n",
    "    }\n",
    ")"
   ]
  },
  {
   "cell_type": "code",
   "execution_count": 8,
   "metadata": {},
   "outputs": [
    {
     "data": {
      "text/html": "<div>\n<style scoped>\n    .dataframe tbody tr th:only-of-type {\n        vertical-align: middle;\n    }\n\n    .dataframe tbody tr th {\n        vertical-align: top;\n    }\n\n    .dataframe thead th {\n        text-align: right;\n    }\n</style>\n<table border=\"1\" class=\"dataframe\">\n  <thead>\n    <tr style=\"text-align: right;\">\n      <th></th>\n      <th>Gender</th>\n      <th>Economic Status</th>\n      <th>Height</th>\n      <th>Weight</th>\n      <th>Age</th>\n      <th>Income</th>\n    </tr>\n  </thead>\n  <tbody>\n    <tr>\n      <th>0</th>\n      <td>Male</td>\n      <td>Poor</td>\n      <td>162.741308</td>\n      <td>15.009735</td>\n      <td>38.391042</td>\n      <td>20789.950252</td>\n    </tr>\n    <tr>\n      <th>1</th>\n      <td>Female</td>\n      <td>Poor</td>\n      <td>166.051831</td>\n      <td>55.192639</td>\n      <td>22.404734</td>\n      <td>18604.433181</td>\n    </tr>\n    <tr>\n      <th>2</th>\n      <td>Female</td>\n      <td>Middle Class</td>\n      <td>114.984160</td>\n      <td>34.866077</td>\n      <td>22.875945</td>\n      <td>21480.505941</td>\n    </tr>\n    <tr>\n      <th>3</th>\n      <td>Male</td>\n      <td>Middle Class</td>\n      <td>157.256101</td>\n      <td>20.046422</td>\n      <td>43.607325</td>\n      <td>20821.045617</td>\n    </tr>\n    <tr>\n      <th>4</th>\n      <td>Male</td>\n      <td>Poor</td>\n      <td>159.044562</td>\n      <td>63.104907</td>\n      <td>41.931960</td>\n      <td>18468.900229</td>\n    </tr>\n    <tr>\n      <th>5</th>\n      <td>Female</td>\n      <td>Rich</td>\n      <td>165.783987</td>\n      <td>5.804551</td>\n      <td>21.154363</td>\n      <td>18497.155895</td>\n    </tr>\n    <tr>\n      <th>6</th>\n      <td>Male</td>\n      <td>Poor</td>\n      <td>120.111099</td>\n      <td>40.240922</td>\n      <td>37.048696</td>\n      <td>18917.473308</td>\n    </tr>\n    <tr>\n      <th>7</th>\n      <td>Male</td>\n      <td>Middle Class</td>\n      <td>189.279379</td>\n      <td>70.824304</td>\n      <td>8.166050</td>\n      <td>19595.566084</td>\n    </tr>\n    <tr>\n      <th>8</th>\n      <td>Male</td>\n      <td>Middle Class</td>\n      <td>129.065760</td>\n      <td>46.790035</td>\n      <td>38.709516</td>\n      <td>19341.551313</td>\n    </tr>\n    <tr>\n      <th>9</th>\n      <td>Female</td>\n      <td>Middle Class</td>\n      <td>179.681619</td>\n      <td>59.252239</td>\n      <td>38.279161</td>\n      <td>20896.494282</td>\n    </tr>\n  </tbody>\n</table>\n</div>",
      "text/plain": "   Gender Economic Status      Height     Weight        Age        Income\n0    Male            Poor  162.741308  15.009735  38.391042  20789.950252\n1  Female            Poor  166.051831  55.192639  22.404734  18604.433181\n2  Female    Middle Class  114.984160  34.866077  22.875945  21480.505941\n3    Male    Middle Class  157.256101  20.046422  43.607325  20821.045617\n4    Male            Poor  159.044562  63.104907  41.931960  18468.900229\n5  Female            Rich  165.783987   5.804551  21.154363  18497.155895\n6    Male            Poor  120.111099  40.240922  37.048696  18917.473308\n7    Male    Middle Class  189.279379  70.824304   8.166050  19595.566084\n8    Male    Middle Class  129.065760  46.790035  38.709516  19341.551313\n9  Female    Middle Class  179.681619  59.252239  38.279161  20896.494282"
     },
     "execution_count": 8,
     "metadata": {},
     "output_type": "execute_result"
    }
   ],
   "source": [
    "data.head(10)"
   ]
  },
  {
   "cell_type": "markdown",
   "metadata": {},
   "source": [
    "Las edades quizás habría que truncarlas para que sean enteros y las alturas habría que tener en cuenta que nos interesa, y dependiendo deberemos modificar la desviación típica y la media. Así, con todas las columnas. Los ingresos también pueden tener poco sentido, porque puede haber una persona de clase media que cobre menos que una persona, lo cual es incongruente."
   ]
  },
  {
   "cell_type": "markdown",
   "metadata": {},
   "source": [
    "## Agrupación de datos"
   ]
  },
  {
   "cell_type": "code",
   "execution_count": 9,
   "metadata": {},
   "outputs": [],
   "source": [
    "grouped_gender = data.groupby('Gender')"
   ]
  },
  {
   "cell_type": "markdown",
   "metadata": {},
   "source": [
    "### Obtener los dos grupos"
   ]
  },
  {
   "cell_type": "code",
   "execution_count": 10,
   "metadata": {},
   "outputs": [
    {
     "name": "stdout",
     "output_type": "stream",
     "text": "Female\n     Gender Economic Status      Height     Weight        Age        Income\n1    Female            Poor  166.051831  55.192639  22.404734  18604.433181\n2    Female    Middle Class  114.984160  34.866077  22.875945  21480.505941\n5    Female            Rich  165.783987   5.804551  21.154363  18497.155895\n9    Female    Middle Class  179.681619  59.252239  38.279161  20896.494282\n12   Female    Middle Class  176.999256  66.955777  22.831297  21352.850943\n..      ...             ...         ...        ...        ...           ...\n491  Female    Middle Class  135.924244  77.464789  32.667099  19642.194177\n493  Female    Middle Class  183.576536  98.219921  23.232891  20237.024463\n495  Female            Rich  147.959698  78.244676  29.006713  19054.399199\n497  Female    Middle Class  157.794535  59.243183  22.162579  20748.427140\n498  Female    Middle Class  216.601049  84.901687  10.192493  18227.548012\n\n[256 rows x 6 columns]\nMale\n    Gender Economic Status      Height     Weight        Age        Income\n0     Male            Poor  162.741308  15.009735  38.391042  20789.950252\n3     Male    Middle Class  157.256101  20.046422  43.607325  20821.045617\n4     Male            Poor  159.044562  63.104907  41.931960  18468.900229\n6     Male            Poor  120.111099  40.240922  37.048696  18917.473308\n7     Male    Middle Class  189.279379  70.824304   8.166050  19595.566084\n..     ...             ...         ...        ...        ...           ...\n488   Male            Poor  110.610982  28.653707  22.310778  18435.149732\n492   Male    Middle Class  127.700933  44.663853  25.155845  18261.647547\n494   Male            Poor  139.697185  82.793370  29.274272  20480.180816\n496   Male            Poor  196.442207  36.212842  41.227035  19275.683331\n499   Male            Poor  220.096520  49.341032  23.483843  18027.518442\n\n[244 rows x 6 columns]\n"
    }
   ],
   "source": [
    "for names, groups in grouped_gender:\n",
    "    print(names)\n",
    "    print(groups)"
   ]
  },
  {
   "cell_type": "markdown",
   "metadata": {},
   "source": [
    "### Obtener solo un grupo"
   ]
  },
  {
   "cell_type": "code",
   "execution_count": 11,
   "metadata": {},
   "outputs": [
    {
     "data": {
      "text/html": "<div>\n<style scoped>\n    .dataframe tbody tr th:only-of-type {\n        vertical-align: middle;\n    }\n\n    .dataframe tbody tr th {\n        vertical-align: top;\n    }\n\n    .dataframe thead th {\n        text-align: right;\n    }\n</style>\n<table border=\"1\" class=\"dataframe\">\n  <thead>\n    <tr style=\"text-align: right;\">\n      <th></th>\n      <th>Gender</th>\n      <th>Economic Status</th>\n      <th>Height</th>\n      <th>Weight</th>\n      <th>Age</th>\n      <th>Income</th>\n    </tr>\n  </thead>\n  <tbody>\n    <tr>\n      <th>1</th>\n      <td>Female</td>\n      <td>Poor</td>\n      <td>166.051831</td>\n      <td>55.192639</td>\n      <td>22.404734</td>\n      <td>18604.433181</td>\n    </tr>\n    <tr>\n      <th>2</th>\n      <td>Female</td>\n      <td>Middle Class</td>\n      <td>114.984160</td>\n      <td>34.866077</td>\n      <td>22.875945</td>\n      <td>21480.505941</td>\n    </tr>\n    <tr>\n      <th>5</th>\n      <td>Female</td>\n      <td>Rich</td>\n      <td>165.783987</td>\n      <td>5.804551</td>\n      <td>21.154363</td>\n      <td>18497.155895</td>\n    </tr>\n    <tr>\n      <th>9</th>\n      <td>Female</td>\n      <td>Middle Class</td>\n      <td>179.681619</td>\n      <td>59.252239</td>\n      <td>38.279161</td>\n      <td>20896.494282</td>\n    </tr>\n    <tr>\n      <th>12</th>\n      <td>Female</td>\n      <td>Middle Class</td>\n      <td>176.999256</td>\n      <td>66.955777</td>\n      <td>22.831297</td>\n      <td>21352.850943</td>\n    </tr>\n    <tr>\n      <th>...</th>\n      <td>...</td>\n      <td>...</td>\n      <td>...</td>\n      <td>...</td>\n      <td>...</td>\n      <td>...</td>\n    </tr>\n    <tr>\n      <th>491</th>\n      <td>Female</td>\n      <td>Middle Class</td>\n      <td>135.924244</td>\n      <td>77.464789</td>\n      <td>32.667099</td>\n      <td>19642.194177</td>\n    </tr>\n    <tr>\n      <th>493</th>\n      <td>Female</td>\n      <td>Middle Class</td>\n      <td>183.576536</td>\n      <td>98.219921</td>\n      <td>23.232891</td>\n      <td>20237.024463</td>\n    </tr>\n    <tr>\n      <th>495</th>\n      <td>Female</td>\n      <td>Rich</td>\n      <td>147.959698</td>\n      <td>78.244676</td>\n      <td>29.006713</td>\n      <td>19054.399199</td>\n    </tr>\n    <tr>\n      <th>497</th>\n      <td>Female</td>\n      <td>Middle Class</td>\n      <td>157.794535</td>\n      <td>59.243183</td>\n      <td>22.162579</td>\n      <td>20748.427140</td>\n    </tr>\n    <tr>\n      <th>498</th>\n      <td>Female</td>\n      <td>Middle Class</td>\n      <td>216.601049</td>\n      <td>84.901687</td>\n      <td>10.192493</td>\n      <td>18227.548012</td>\n    </tr>\n  </tbody>\n</table>\n<p>256 rows × 6 columns</p>\n</div>",
      "text/plain": "     Gender Economic Status      Height     Weight        Age        Income\n1    Female            Poor  166.051831  55.192639  22.404734  18604.433181\n2    Female    Middle Class  114.984160  34.866077  22.875945  21480.505941\n5    Female            Rich  165.783987   5.804551  21.154363  18497.155895\n9    Female    Middle Class  179.681619  59.252239  38.279161  20896.494282\n12   Female    Middle Class  176.999256  66.955777  22.831297  21352.850943\n..      ...             ...         ...        ...        ...           ...\n491  Female    Middle Class  135.924244  77.464789  32.667099  19642.194177\n493  Female    Middle Class  183.576536  98.219921  23.232891  20237.024463\n495  Female            Rich  147.959698  78.244676  29.006713  19054.399199\n497  Female    Middle Class  157.794535  59.243183  22.162579  20748.427140\n498  Female    Middle Class  216.601049  84.901687  10.192493  18227.548012\n\n[256 rows x 6 columns]"
     },
     "execution_count": 11,
     "metadata": {},
     "output_type": "execute_result"
    }
   ],
   "source": [
    "grouped_gender.get_group('Female')"
   ]
  },
  {
   "cell_type": "markdown",
   "metadata": {},
   "source": [
    "### Doble agrupación"
   ]
  },
  {
   "cell_type": "code",
   "execution_count": 12,
   "metadata": {},
   "outputs": [],
   "source": [
    "double_group = data.groupby(['Gender', 'Economic Status'])"
   ]
  },
  {
   "cell_type": "code",
   "execution_count": 13,
   "metadata": {},
   "outputs": [
    {
     "name": "stdout",
     "output_type": "stream",
     "text": "('Female', 'Middle Class')\n     Gender Economic Status      Height      Weight        Age        Income\n2    Female    Middle Class  114.984160   34.866077  22.875945  21480.505941\n9    Female    Middle Class  179.681619   59.252239  38.279161  20896.494282\n12   Female    Middle Class  176.999256   66.955777  22.831297  21352.850943\n29   Female    Middle Class  222.658854   98.250618  21.872729  20218.818915\n31   Female    Middle Class  128.356403   74.436037  30.639693  19437.595973\n..      ...             ...         ...         ...        ...           ...\n489  Female    Middle Class  183.591129  114.345528  27.453862  18934.747429\n491  Female    Middle Class  135.924244   77.464789  32.667099  19642.194177\n493  Female    Middle Class  183.576536   98.219921  23.232891  20237.024463\n497  Female    Middle Class  157.794535   59.243183  22.162579  20748.427140\n498  Female    Middle Class  216.601049   84.901687  10.192493  18227.548012\n\n[90 rows x 6 columns]\n('Female', 'Poor')\n     Gender Economic Status      Height      Weight        Age        Income\n1    Female            Poor  166.051831   55.192639  22.404734  18604.433181\n15   Female            Poor  184.712946   66.588265  39.458774  19326.998644\n16   Female            Poor  204.521391   96.730120  28.203788  18666.232425\n27   Female            Poor  183.649039   71.285053  31.962386  20403.178069\n28   Female            Poor  144.814191   68.485955   9.438597  21170.519619\n..      ...             ...         ...         ...        ...           ...\n449  Female            Poor  218.271532   52.214947  21.869031  18696.469501\n451  Female            Poor  174.175244   76.994917  28.104019  20651.119149\n453  Female            Poor  134.435807   65.900768  25.763238  18781.879957\n478  Female            Poor  149.295324  108.195271  39.215335  20803.148830\n485  Female            Poor  148.108800   68.205256  33.977284  18010.033108\n\n[77 rows x 6 columns]\n('Female', 'Rich')\n     Gender Economic Status      Height      Weight        Age        Income\n5    Female            Rich  165.783987    5.804551  21.154363  18497.155895\n14   Female            Rich  144.266056   53.863767  27.252329  21395.010179\n22   Female            Rich  161.884154   94.313951  28.008483  19579.684189\n30   Female            Rich  170.215841   26.761365  21.533842  20295.779588\n32   Female            Rich  187.602758   69.399680  34.904188  19233.957598\n..      ...             ...         ...         ...        ...           ...\n469  Female            Rich  192.588940  113.235762  29.927409  19994.712883\n484  Female            Rich  185.303193   98.353619  18.551824  18184.144706\n487  Female            Rich  147.902877   53.998936  32.512792  19814.393590\n490  Female            Rich  208.272985   69.473208  30.899458  20809.091871\n495  Female            Rich  147.959698   78.244676  29.006713  19054.399199\n\n[89 rows x 6 columns]\n('Male', 'Middle Class')\n    Gender Economic Status      Height      Weight        Age        Income\n3     Male    Middle Class  157.256101   20.046422  43.607325  20821.045617\n7     Male    Middle Class  189.279379   70.824304   8.166050  19595.566084\n8     Male    Middle Class  129.065760   46.790035  38.709516  19341.551313\n17    Male    Middle Class  151.802747  102.722470  28.825212  19287.524793\n21    Male    Middle Class  190.218324   57.691114  30.697005  19592.009714\n..     ...             ...         ...         ...        ...           ...\n472   Male    Middle Class  167.318772   77.965601  35.667143  20762.801739\n473   Male    Middle Class  131.441641   80.235339  23.763348  18299.900518\n475   Male    Middle Class  131.452187   97.429082  21.327848  18375.211835\n480   Male    Middle Class  130.820164   32.172924  32.969026  20082.526508\n492   Male    Middle Class  127.700933   44.663853  25.155845  18261.647547\n\n[65 rows x 6 columns]\n('Male', 'Poor')\n    Gender Economic Status      Height      Weight        Age        Income\n0     Male            Poor  162.741308   15.009735  38.391042  20789.950252\n4     Male            Poor  159.044562   63.104907  41.931960  18468.900229\n6     Male            Poor  120.111099   40.240922  37.048696  18917.473308\n10    Male            Poor  182.417980   72.552194  16.765066  18278.536836\n23    Male            Poor  224.898585   49.816832  33.284126  20505.669157\n..     ...             ...         ...         ...        ...           ...\n466   Male            Poor  138.117406  134.819248  14.660446  20431.509390\n488   Male            Poor  110.610982   28.653707  22.310778  18435.149732\n494   Male            Poor  139.697185   82.793370  29.274272  20480.180816\n496   Male            Poor  196.442207   36.212842  41.227035  19275.683331\n499   Male            Poor  220.096520   49.341032  23.483843  18027.518442\n\n[95 rows x 6 columns]\n('Male', 'Rich')\n    Gender Economic Status      Height      Weight        Age        Income\n11    Male            Rich  180.476262   65.271986  17.240237  18927.636394\n13    Male            Rich  179.136082   33.061990  42.194492  21132.673566\n18    Male            Rich  100.088935  109.001964  29.606167  20596.750800\n19    Male            Rich  152.583317   19.484765  30.991484  21332.919716\n20    Male            Rich  178.507981   33.955773  34.849320  19279.626526\n..     ...             ...         ...         ...        ...           ...\n458   Male            Rich  152.884277   42.929283  36.617139  19437.198140\n465   Male            Rich  163.080341   34.449434  30.669494  21005.324279\n468   Male            Rich  210.771109    7.990569  15.078018  19897.143947\n470   Male            Rich  186.650836   66.931049  16.160101  20279.012280\n486   Male            Rich  148.692447   42.962194  39.376972  19722.448831\n\n[84 rows x 6 columns]\n"
    }
   ],
   "source": [
    "for names, groups in double_group:\n",
    "    print(names)\n",
    "    print(groups)"
   ]
  },
  {
   "cell_type": "markdown",
   "metadata": {},
   "source": [
    "## Operaciones sobre datos agrupados"
   ]
  },
  {
   "cell_type": "code",
   "execution_count": 14,
   "metadata": {},
   "outputs": [
    {
     "data": {
      "text/html": "<div>\n<style scoped>\n    .dataframe tbody tr th:only-of-type {\n        vertical-align: middle;\n    }\n\n    .dataframe tbody tr th {\n        vertical-align: top;\n    }\n\n    .dataframe thead th {\n        text-align: right;\n    }\n</style>\n<table border=\"1\" class=\"dataframe\">\n  <thead>\n    <tr style=\"text-align: right;\">\n      <th></th>\n      <th></th>\n      <th>Height</th>\n      <th>Weight</th>\n      <th>Age</th>\n      <th>Income</th>\n    </tr>\n    <tr>\n      <th>Gender</th>\n      <th>Economic Status</th>\n      <th></th>\n      <th></th>\n      <th></th>\n      <th></th>\n    </tr>\n  </thead>\n  <tbody>\n    <tr>\n      <th rowspan=\"3\" valign=\"top\">Female</th>\n      <th>Middle Class</th>\n      <td>14361.980068</td>\n      <td>5847.430996</td>\n      <td>2657.956286</td>\n      <td>1.790207e+06</td>\n    </tr>\n    <tr>\n      <th>Poor</th>\n      <td>12131.208244</td>\n      <td>4665.039087</td>\n      <td>2433.251848</td>\n      <td>1.531365e+06</td>\n    </tr>\n    <tr>\n      <th>Rich</th>\n      <td>14303.881090</td>\n      <td>5594.586313</td>\n      <td>2677.337633</td>\n      <td>1.749857e+06</td>\n    </tr>\n    <tr>\n      <th rowspan=\"3\" valign=\"top\">Male</th>\n      <th>Middle Class</th>\n      <td>10230.668600</td>\n      <td>4002.441107</td>\n      <td>1873.058895</td>\n      <td>1.288917e+06</td>\n    </tr>\n    <tr>\n      <th>Poor</th>\n      <td>15140.955341</td>\n      <td>6398.814513</td>\n      <td>2965.271924</td>\n      <td>1.890832e+06</td>\n    </tr>\n    <tr>\n      <th>Rich</th>\n      <td>13274.135394</td>\n      <td>5374.954010</td>\n      <td>2474.187886</td>\n      <td>1.678437e+06</td>\n    </tr>\n  </tbody>\n</table>\n</div>",
      "text/plain": "                              Height       Weight          Age        Income\nGender Economic Status                                                      \nFemale Middle Class     14361.980068  5847.430996  2657.956286  1.790207e+06\n       Poor             12131.208244  4665.039087  2433.251848  1.531365e+06\n       Rich             14303.881090  5594.586313  2677.337633  1.749857e+06\nMale   Middle Class     10230.668600  4002.441107  1873.058895  1.288917e+06\n       Poor             15140.955341  6398.814513  2965.271924  1.890832e+06\n       Rich             13274.135394  5374.954010  2474.187886  1.678437e+06"
     },
     "execution_count": 14,
     "metadata": {},
     "output_type": "execute_result"
    }
   ],
   "source": [
    "double_group.sum()"
   ]
  },
  {
   "cell_type": "code",
   "execution_count": 15,
   "metadata": {},
   "outputs": [
    {
     "data": {
      "text/html": "<div>\n<style scoped>\n    .dataframe tbody tr th:only-of-type {\n        vertical-align: middle;\n    }\n\n    .dataframe tbody tr th {\n        vertical-align: top;\n    }\n\n    .dataframe thead th {\n        text-align: right;\n    }\n</style>\n<table border=\"1\" class=\"dataframe\">\n  <thead>\n    <tr style=\"text-align: right;\">\n      <th></th>\n      <th></th>\n      <th>Height</th>\n      <th>Weight</th>\n      <th>Age</th>\n      <th>Income</th>\n    </tr>\n    <tr>\n      <th>Gender</th>\n      <th>Economic Status</th>\n      <th></th>\n      <th></th>\n      <th></th>\n      <th></th>\n    </tr>\n  </thead>\n  <tbody>\n    <tr>\n      <th rowspan=\"3\" valign=\"top\">Female</th>\n      <th>Middle Class</th>\n      <td>159.577556</td>\n      <td>64.971456</td>\n      <td>29.532848</td>\n      <td>19891.191064</td>\n    </tr>\n    <tr>\n      <th>Poor</th>\n      <td>157.548159</td>\n      <td>60.584923</td>\n      <td>31.600673</td>\n      <td>19887.857453</td>\n    </tr>\n    <tr>\n      <th>Rich</th>\n      <td>160.717765</td>\n      <td>62.860520</td>\n      <td>30.082445</td>\n      <td>19661.318758</td>\n    </tr>\n    <tr>\n      <th rowspan=\"3\" valign=\"top\">Male</th>\n      <th>Middle Class</th>\n      <td>157.394902</td>\n      <td>61.576017</td>\n      <td>28.816291</td>\n      <td>19829.485851</td>\n    </tr>\n    <tr>\n      <th>Poor</th>\n      <td>159.378477</td>\n      <td>67.355942</td>\n      <td>31.213389</td>\n      <td>19903.498228</td>\n    </tr>\n    <tr>\n      <th>Rich</th>\n      <td>158.025421</td>\n      <td>63.987548</td>\n      <td>29.454618</td>\n      <td>19981.388932</td>\n    </tr>\n  </tbody>\n</table>\n</div>",
      "text/plain": "                            Height     Weight        Age        Income\nGender Economic Status                                                \nFemale Middle Class     159.577556  64.971456  29.532848  19891.191064\n       Poor             157.548159  60.584923  31.600673  19887.857453\n       Rich             160.717765  62.860520  30.082445  19661.318758\nMale   Middle Class     157.394902  61.576017  28.816291  19829.485851\n       Poor             159.378477  67.355942  31.213389  19903.498228\n       Rich             158.025421  63.987548  29.454618  19981.388932"
     },
     "execution_count": 15,
     "metadata": {},
     "output_type": "execute_result"
    }
   ],
   "source": [
    "double_group.mean()"
   ]
  },
  {
   "cell_type": "code",
   "execution_count": 16,
   "metadata": {},
   "outputs": [
    {
     "data": {
      "text/plain": "Gender  Economic Status\nFemale  Middle Class       90\n        Poor               77\n        Rich               89\nMale    Middle Class       65\n        Poor               95\n        Rich               84\ndtype: int64"
     },
     "execution_count": 16,
     "metadata": {},
     "output_type": "execute_result"
    }
   ],
   "source": [
    "double_group.size()"
   ]
  },
  {
   "cell_type": "code",
   "execution_count": 17,
   "metadata": {},
   "outputs": [
    {
     "data": {
      "text/html": "<div>\n<style scoped>\n    .dataframe tbody tr th:only-of-type {\n        vertical-align: middle;\n    }\n\n    .dataframe tbody tr th {\n        vertical-align: top;\n    }\n\n    .dataframe thead tr th {\n        text-align: left;\n    }\n\n    .dataframe thead tr:last-of-type th {\n        text-align: right;\n    }\n</style>\n<table border=\"1\" class=\"dataframe\">\n  <thead>\n    <tr>\n      <th></th>\n      <th></th>\n      <th colspan=\"8\" halign=\"left\">Height</th>\n      <th colspan=\"2\" halign=\"left\">Weight</th>\n      <th>...</th>\n      <th colspan=\"2\" halign=\"left\">Age</th>\n      <th colspan=\"8\" halign=\"left\">Income</th>\n    </tr>\n    <tr>\n      <th></th>\n      <th></th>\n      <th>count</th>\n      <th>mean</th>\n      <th>std</th>\n      <th>min</th>\n      <th>25%</th>\n      <th>50%</th>\n      <th>75%</th>\n      <th>max</th>\n      <th>count</th>\n      <th>mean</th>\n      <th>...</th>\n      <th>75%</th>\n      <th>max</th>\n      <th>count</th>\n      <th>mean</th>\n      <th>std</th>\n      <th>min</th>\n      <th>25%</th>\n      <th>50%</th>\n      <th>75%</th>\n      <th>max</th>\n    </tr>\n    <tr>\n      <th>Gender</th>\n      <th>Economic Status</th>\n      <th></th>\n      <th></th>\n      <th></th>\n      <th></th>\n      <th></th>\n      <th></th>\n      <th></th>\n      <th></th>\n      <th></th>\n      <th></th>\n      <th></th>\n      <th></th>\n      <th></th>\n      <th></th>\n      <th></th>\n      <th></th>\n      <th></th>\n      <th></th>\n      <th></th>\n      <th></th>\n      <th></th>\n    </tr>\n  </thead>\n  <tbody>\n    <tr>\n      <th rowspan=\"3\" valign=\"top\">Female</th>\n      <th>Middle Class</th>\n      <td>90.0</td>\n      <td>159.577556</td>\n      <td>28.583235</td>\n      <td>89.998186</td>\n      <td>137.319299</td>\n      <td>159.589514</td>\n      <td>176.988127</td>\n      <td>224.311800</td>\n      <td>90.0</td>\n      <td>64.971456</td>\n      <td>...</td>\n      <td>38.278154</td>\n      <td>61.120203</td>\n      <td>90.0</td>\n      <td>19891.191064</td>\n      <td>1000.940545</td>\n      <td>18002.821593</td>\n      <td>19229.622281</td>\n      <td>19871.843425</td>\n      <td>20766.334628</td>\n      <td>21480.505941</td>\n    </tr>\n    <tr>\n      <th>Poor</th>\n      <td>77.0</td>\n      <td>157.548159</td>\n      <td>26.088561</td>\n      <td>103.898142</td>\n      <td>137.272247</td>\n      <td>159.161004</td>\n      <td>174.935474</td>\n      <td>218.271532</td>\n      <td>77.0</td>\n      <td>60.584923</td>\n      <td>...</td>\n      <td>39.458774</td>\n      <td>56.639298</td>\n      <td>77.0</td>\n      <td>19887.857453</td>\n      <td>1053.301623</td>\n      <td>18001.250399</td>\n      <td>18934.027963</td>\n      <td>20035.325602</td>\n      <td>20881.780287</td>\n      <td>21499.176583</td>\n    </tr>\n    <tr>\n      <th>Rich</th>\n      <td>89.0</td>\n      <td>160.717765</td>\n      <td>29.715635</td>\n      <td>94.803244</td>\n      <td>142.289090</td>\n      <td>161.975243</td>\n      <td>182.599293</td>\n      <td>215.726461</td>\n      <td>89.0</td>\n      <td>62.860520</td>\n      <td>...</td>\n      <td>38.148414</td>\n      <td>52.679680</td>\n      <td>89.0</td>\n      <td>19661.318758</td>\n      <td>1016.111582</td>\n      <td>18002.879697</td>\n      <td>18812.713664</td>\n      <td>19624.881431</td>\n      <td>20486.331612</td>\n      <td>21461.258884</td>\n    </tr>\n    <tr>\n      <th rowspan=\"3\" valign=\"top\">Male</th>\n      <th>Middle Class</th>\n      <td>65.0</td>\n      <td>157.394902</td>\n      <td>31.910052</td>\n      <td>96.205727</td>\n      <td>131.441641</td>\n      <td>159.348986</td>\n      <td>175.385681</td>\n      <td>260.484202</td>\n      <td>65.0</td>\n      <td>61.576017</td>\n      <td>...</td>\n      <td>38.498514</td>\n      <td>59.630448</td>\n      <td>65.0</td>\n      <td>19829.485851</td>\n      <td>1030.018019</td>\n      <td>18096.818256</td>\n      <td>18984.872512</td>\n      <td>19848.224896</td>\n      <td>20762.801739</td>\n      <td>21487.836501</td>\n    </tr>\n    <tr>\n      <th>Poor</th>\n      <td>95.0</td>\n      <td>159.378477</td>\n      <td>30.535200</td>\n      <td>90.111634</td>\n      <td>137.723877</td>\n      <td>156.958912</td>\n      <td>181.809468</td>\n      <td>225.449843</td>\n      <td>95.0</td>\n      <td>67.355942</td>\n      <td>...</td>\n      <td>38.576751</td>\n      <td>65.457589</td>\n      <td>95.0</td>\n      <td>19903.498228</td>\n      <td>1028.881852</td>\n      <td>18027.518442</td>\n      <td>18952.976302</td>\n      <td>20214.500053</td>\n      <td>20725.419005</td>\n      <td>21484.135923</td>\n    </tr>\n    <tr>\n      <th>Rich</th>\n      <td>84.0</td>\n      <td>158.025421</td>\n      <td>30.448174</td>\n      <td>94.976644</td>\n      <td>138.416783</td>\n      <td>157.395314</td>\n      <td>179.392632</td>\n      <td>230.400359</td>\n      <td>84.0</td>\n      <td>63.987548</td>\n      <td>...</td>\n      <td>36.876380</td>\n      <td>51.625757</td>\n      <td>84.0</td>\n      <td>19981.388932</td>\n      <td>991.041572</td>\n      <td>18013.369904</td>\n      <td>19278.405096</td>\n      <td>19953.328461</td>\n      <td>21009.762533</td>\n      <td>21467.170751</td>\n    </tr>\n  </tbody>\n</table>\n<p>6 rows × 32 columns</p>\n</div>",
      "text/plain": "                       Height                                                 \\\n                        count        mean        std         min         25%   \nGender Economic Status                                                         \nFemale Middle Class      90.0  159.577556  28.583235   89.998186  137.319299   \n       Poor              77.0  157.548159  26.088561  103.898142  137.272247   \n       Rich              89.0  160.717765  29.715635   94.803244  142.289090   \nMale   Middle Class      65.0  157.394902  31.910052   96.205727  131.441641   \n       Poor              95.0  159.378477  30.535200   90.111634  137.723877   \n       Rich              84.0  158.025421  30.448174   94.976644  138.416783   \n\n                                                           Weight             \\\n                               50%         75%         max  count       mean   \nGender Economic Status                                                         \nFemale Middle Class     159.589514  176.988127  224.311800   90.0  64.971456   \n       Poor             159.161004  174.935474  218.271532   77.0  60.584923   \n       Rich             161.975243  182.599293  215.726461   89.0  62.860520   \nMale   Middle Class     159.348986  175.385681  260.484202   65.0  61.576017   \n       Poor             156.958912  181.809468  225.449843   95.0  67.355942   \n       Rich             157.395314  179.392632  230.400359   84.0  63.987548   \n\n                        ...        Age            Income                \\\n                        ...        75%        max  count          mean   \nGender Economic Status  ...                                              \nFemale Middle Class     ...  38.278154  61.120203   90.0  19891.191064   \n       Poor             ...  39.458774  56.639298   77.0  19887.857453   \n       Rich             ...  38.148414  52.679680   89.0  19661.318758   \nMale   Middle Class     ...  38.498514  59.630448   65.0  19829.485851   \n       Poor             ...  38.576751  65.457589   95.0  19903.498228   \n       Rich             ...  36.876380  51.625757   84.0  19981.388932   \n\n                                                                               \\\n                                std           min           25%           50%   \nGender Economic Status                                                          \nFemale Middle Class     1000.940545  18002.821593  19229.622281  19871.843425   \n       Poor             1053.301623  18001.250399  18934.027963  20035.325602   \n       Rich             1016.111582  18002.879697  18812.713664  19624.881431   \nMale   Middle Class     1030.018019  18096.818256  18984.872512  19848.224896   \n       Poor             1028.881852  18027.518442  18952.976302  20214.500053   \n       Rich              991.041572  18013.369904  19278.405096  19953.328461   \n\n                                                    \n                                 75%           max  \nGender Economic Status                              \nFemale Middle Class     20766.334628  21480.505941  \n       Poor             20881.780287  21499.176583  \n       Rich             20486.331612  21461.258884  \nMale   Middle Class     20762.801739  21487.836501  \n       Poor             20725.419005  21484.135923  \n       Rich             21009.762533  21467.170751  \n\n[6 rows x 32 columns]"
     },
     "execution_count": 17,
     "metadata": {},
     "output_type": "execute_result"
    }
   ],
   "source": [
    "double_group.describe()"
   ]
  },
  {
   "cell_type": "code",
   "execution_count": 18,
   "metadata": {},
   "outputs": [
    {
     "data": {
      "text/html": "<div>\n<style scoped>\n    .dataframe tbody tr th:only-of-type {\n        vertical-align: middle;\n    }\n\n    .dataframe tbody tr th {\n        vertical-align: top;\n    }\n\n    .dataframe thead th {\n        text-align: right;\n    }\n</style>\n<table border=\"1\" class=\"dataframe\">\n  <thead>\n    <tr style=\"text-align: right;\">\n      <th></th>\n      <th></th>\n      <th>count</th>\n      <th>mean</th>\n      <th>std</th>\n      <th>min</th>\n      <th>25%</th>\n      <th>50%</th>\n      <th>75%</th>\n      <th>max</th>\n    </tr>\n    <tr>\n      <th>Gender</th>\n      <th>Economic Status</th>\n      <th></th>\n      <th></th>\n      <th></th>\n      <th></th>\n      <th></th>\n      <th></th>\n      <th></th>\n      <th></th>\n    </tr>\n  </thead>\n  <tbody>\n    <tr>\n      <th rowspan=\"3\" valign=\"top\">Female</th>\n      <th>Middle Class</th>\n      <td>90.0</td>\n      <td>19891.191064</td>\n      <td>1000.940545</td>\n      <td>18002.821593</td>\n      <td>19229.622281</td>\n      <td>19871.843425</td>\n      <td>20766.334628</td>\n      <td>21480.505941</td>\n    </tr>\n    <tr>\n      <th>Poor</th>\n      <td>77.0</td>\n      <td>19887.857453</td>\n      <td>1053.301623</td>\n      <td>18001.250399</td>\n      <td>18934.027963</td>\n      <td>20035.325602</td>\n      <td>20881.780287</td>\n      <td>21499.176583</td>\n    </tr>\n    <tr>\n      <th>Rich</th>\n      <td>89.0</td>\n      <td>19661.318758</td>\n      <td>1016.111582</td>\n      <td>18002.879697</td>\n      <td>18812.713664</td>\n      <td>19624.881431</td>\n      <td>20486.331612</td>\n      <td>21461.258884</td>\n    </tr>\n    <tr>\n      <th rowspan=\"3\" valign=\"top\">Male</th>\n      <th>Middle Class</th>\n      <td>65.0</td>\n      <td>19829.485851</td>\n      <td>1030.018019</td>\n      <td>18096.818256</td>\n      <td>18984.872512</td>\n      <td>19848.224896</td>\n      <td>20762.801739</td>\n      <td>21487.836501</td>\n    </tr>\n    <tr>\n      <th>Poor</th>\n      <td>95.0</td>\n      <td>19903.498228</td>\n      <td>1028.881852</td>\n      <td>18027.518442</td>\n      <td>18952.976302</td>\n      <td>20214.500053</td>\n      <td>20725.419005</td>\n      <td>21484.135923</td>\n    </tr>\n    <tr>\n      <th>Rich</th>\n      <td>84.0</td>\n      <td>19981.388932</td>\n      <td>991.041572</td>\n      <td>18013.369904</td>\n      <td>19278.405096</td>\n      <td>19953.328461</td>\n      <td>21009.762533</td>\n      <td>21467.170751</td>\n    </tr>\n  </tbody>\n</table>\n</div>",
      "text/plain": "                        count          mean          std           min  \\\nGender Economic Status                                                   \nFemale Middle Class      90.0  19891.191064  1000.940545  18002.821593   \n       Poor              77.0  19887.857453  1053.301623  18001.250399   \n       Rich              89.0  19661.318758  1016.111582  18002.879697   \nMale   Middle Class      65.0  19829.485851  1030.018019  18096.818256   \n       Poor              95.0  19903.498228  1028.881852  18027.518442   \n       Rich              84.0  19981.388932   991.041572  18013.369904   \n\n                                 25%           50%           75%           max  \nGender Economic Status                                                          \nFemale Middle Class     19229.622281  19871.843425  20766.334628  21480.505941  \n       Poor             18934.027963  20035.325602  20881.780287  21499.176583  \n       Rich             18812.713664  19624.881431  20486.331612  21461.258884  \nMale   Middle Class     18984.872512  19848.224896  20762.801739  21487.836501  \n       Poor             18952.976302  20214.500053  20725.419005  21484.135923  \n       Rich             19278.405096  19953.328461  21009.762533  21467.170751  "
     },
     "execution_count": 18,
     "metadata": {},
     "output_type": "execute_result"
    }
   ],
   "source": [
    "double_group['Income'].describe()"
   ]
  },
  {
   "cell_type": "markdown",
   "metadata": {},
   "source": [
    "### Operaciones de agregación"
   ]
  },
  {
   "cell_type": "code",
   "execution_count": 22,
   "metadata": {},
   "outputs": [
    {
     "data": {
      "text/html": "<div>\n<style scoped>\n    .dataframe tbody tr th:only-of-type {\n        vertical-align: middle;\n    }\n\n    .dataframe tbody tr th {\n        vertical-align: top;\n    }\n\n    .dataframe thead th {\n        text-align: right;\n    }\n</style>\n<table border=\"1\" class=\"dataframe\">\n  <thead>\n    <tr style=\"text-align: right;\">\n      <th></th>\n      <th></th>\n      <th>Income</th>\n      <th>Age</th>\n      <th>Height</th>\n    </tr>\n    <tr>\n      <th>Gender</th>\n      <th>Economic Status</th>\n      <th></th>\n      <th></th>\n      <th></th>\n    </tr>\n  </thead>\n  <tbody>\n    <tr>\n      <th rowspan=\"3\" valign=\"top\">Female</th>\n      <th>Middle Class</th>\n      <td>1.790207e+06</td>\n      <td>29.532848</td>\n      <td>28.583235</td>\n    </tr>\n    <tr>\n      <th>Poor</th>\n      <td>1.531365e+06</td>\n      <td>31.600673</td>\n      <td>26.088561</td>\n    </tr>\n    <tr>\n      <th>Rich</th>\n      <td>1.749857e+06</td>\n      <td>30.082445</td>\n      <td>29.715635</td>\n    </tr>\n    <tr>\n      <th rowspan=\"3\" valign=\"top\">Male</th>\n      <th>Middle Class</th>\n      <td>1.288917e+06</td>\n      <td>28.816291</td>\n      <td>31.910052</td>\n    </tr>\n    <tr>\n      <th>Poor</th>\n      <td>1.890832e+06</td>\n      <td>31.213389</td>\n      <td>30.535200</td>\n    </tr>\n    <tr>\n      <th>Rich</th>\n      <td>1.678437e+06</td>\n      <td>29.454618</td>\n      <td>30.448174</td>\n    </tr>\n  </tbody>\n</table>\n</div>",
      "text/plain": "                              Income        Age     Height\nGender Economic Status                                    \nFemale Middle Class     1.790207e+06  29.532848  28.583235\n       Poor             1.531365e+06  31.600673  26.088561\n       Rich             1.749857e+06  30.082445  29.715635\nMale   Middle Class     1.288917e+06  28.816291  31.910052\n       Poor             1.890832e+06  31.213389  30.535200\n       Rich             1.678437e+06  29.454618  30.448174"
     },
     "execution_count": 22,
     "metadata": {},
     "output_type": "execute_result"
    }
   ],
   "source": [
    "double_group.aggregate(\n",
    "    {\n",
    "        \"Income\" : np.sum,\n",
    "        \"Age\" : np.mean,\n",
    "        \"Height\" : np.std\n",
    "    }\n",
    ")"
   ]
  },
  {
   "cell_type": "code",
   "execution_count": 24,
   "metadata": {},
   "outputs": [
    {
     "data": {
      "text/html": "<div>\n<style scoped>\n    .dataframe tbody tr th:only-of-type {\n        vertical-align: middle;\n    }\n\n    .dataframe tbody tr th {\n        vertical-align: top;\n    }\n\n    .dataframe thead th {\n        text-align: right;\n    }\n</style>\n<table border=\"1\" class=\"dataframe\">\n  <thead>\n    <tr style=\"text-align: right;\">\n      <th></th>\n      <th></th>\n      <th>Age</th>\n      <th>Height</th>\n    </tr>\n    <tr>\n      <th>Gender</th>\n      <th>Economic Status</th>\n      <th></th>\n      <th></th>\n    </tr>\n  </thead>\n  <tbody>\n    <tr>\n      <th rowspan=\"3\" valign=\"top\">Female</th>\n      <th>Middle Class</th>\n      <td>29.532848</td>\n      <td>5.614184</td>\n    </tr>\n    <tr>\n      <th>Poor</th>\n      <td>31.600673</td>\n      <td>6.078575</td>\n    </tr>\n    <tr>\n      <th>Rich</th>\n      <td>30.082445</td>\n      <td>5.439169</td>\n    </tr>\n    <tr>\n      <th rowspan=\"3\" valign=\"top\">Male</th>\n      <th>Middle Class</th>\n      <td>28.816291</td>\n      <td>4.970841</td>\n    </tr>\n    <tr>\n      <th>Poor</th>\n      <td>31.213389</td>\n      <td>5.247190</td>\n    </tr>\n    <tr>\n      <th>Rich</th>\n      <td>29.454618</td>\n      <td>5.221152</td>\n    </tr>\n  </tbody>\n</table>\n</div>",
      "text/plain": "                              Age    Height\nGender Economic Status                     \nFemale Middle Class     29.532848  5.614184\n       Poor             31.600673  6.078575\n       Rich             30.082445  5.439169\nMale   Middle Class     28.816291  4.970841\n       Poor             31.213389  5.247190\n       Rich             29.454618  5.221152"
     },
     "execution_count": 24,
     "metadata": {},
     "output_type": "execute_result"
    }
   ],
   "source": [
    "double_group.aggregate(\n",
    "    {\n",
    "        \"Age\" : np.mean,\n",
    "        \"Height\" : lambda h:(np.mean(h)/np.std(h)) # tipificacion\n",
    "    }\n",
    ")"
   ]
  },
  {
   "cell_type": "code",
   "execution_count": 26,
   "metadata": {},
   "outputs": [
    {
     "data": {
      "text/html": "<div>\n<style scoped>\n    .dataframe tbody tr th:only-of-type {\n        vertical-align: middle;\n    }\n\n    .dataframe tbody tr th {\n        vertical-align: top;\n    }\n\n    .dataframe thead tr th {\n        text-align: left;\n    }\n\n    .dataframe thead tr:last-of-type th {\n        text-align: right;\n    }\n</style>\n<table border=\"1\" class=\"dataframe\">\n  <thead>\n    <tr>\n      <th></th>\n      <th></th>\n      <th colspan=\"3\" halign=\"left\">Height</th>\n      <th colspan=\"3\" halign=\"left\">Weight</th>\n      <th colspan=\"3\" halign=\"left\">Age</th>\n      <th colspan=\"3\" halign=\"left\">Income</th>\n    </tr>\n    <tr>\n      <th></th>\n      <th></th>\n      <th>sum</th>\n      <th>mean</th>\n      <th>std</th>\n      <th>sum</th>\n      <th>mean</th>\n      <th>std</th>\n      <th>sum</th>\n      <th>mean</th>\n      <th>std</th>\n      <th>sum</th>\n      <th>mean</th>\n      <th>std</th>\n    </tr>\n    <tr>\n      <th>Gender</th>\n      <th>Economic Status</th>\n      <th></th>\n      <th></th>\n      <th></th>\n      <th></th>\n      <th></th>\n      <th></th>\n      <th></th>\n      <th></th>\n      <th></th>\n      <th></th>\n      <th></th>\n      <th></th>\n    </tr>\n  </thead>\n  <tbody>\n    <tr>\n      <th rowspan=\"3\" valign=\"top\">Female</th>\n      <th>Middle Class</th>\n      <td>14361.980068</td>\n      <td>159.577556</td>\n      <td>28.583235</td>\n      <td>5847.430996</td>\n      <td>64.971456</td>\n      <td>27.305165</td>\n      <td>2657.956286</td>\n      <td>29.532848</td>\n      <td>12.761027</td>\n      <td>1.790207e+06</td>\n      <td>19891.191064</td>\n      <td>1000.940545</td>\n    </tr>\n    <tr>\n      <th>Poor</th>\n      <td>12131.208244</td>\n      <td>157.548159</td>\n      <td>26.088561</td>\n      <td>4665.039087</td>\n      <td>60.584923</td>\n      <td>26.178449</td>\n      <td>2433.251848</td>\n      <td>31.600673</td>\n      <td>12.299335</td>\n      <td>1.531365e+06</td>\n      <td>19887.857453</td>\n      <td>1053.301623</td>\n    </tr>\n    <tr>\n      <th>Rich</th>\n      <td>14303.881090</td>\n      <td>160.717765</td>\n      <td>29.715635</td>\n      <td>5594.586313</td>\n      <td>62.860520</td>\n      <td>25.874248</td>\n      <td>2677.337633</td>\n      <td>30.082445</td>\n      <td>11.228165</td>\n      <td>1.749857e+06</td>\n      <td>19661.318758</td>\n      <td>1016.111582</td>\n    </tr>\n    <tr>\n      <th rowspan=\"3\" valign=\"top\">Male</th>\n      <th>Middle Class</th>\n      <td>10230.668600</td>\n      <td>157.394902</td>\n      <td>31.910052</td>\n      <td>4002.441107</td>\n      <td>61.576017</td>\n      <td>23.189865</td>\n      <td>1873.058895</td>\n      <td>28.816291</td>\n      <td>11.635436</td>\n      <td>1.288917e+06</td>\n      <td>19829.485851</td>\n      <td>1030.018019</td>\n    </tr>\n    <tr>\n      <th>Poor</th>\n      <td>15140.955341</td>\n      <td>159.378477</td>\n      <td>30.535200</td>\n      <td>6398.814513</td>\n      <td>67.355942</td>\n      <td>26.075631</td>\n      <td>2965.271924</td>\n      <td>31.213389</td>\n      <td>13.286752</td>\n      <td>1.890832e+06</td>\n      <td>19903.498228</td>\n      <td>1028.881852</td>\n    </tr>\n    <tr>\n      <th>Rich</th>\n      <td>13274.135394</td>\n      <td>158.025421</td>\n      <td>30.448174</td>\n      <td>5374.954010</td>\n      <td>63.987548</td>\n      <td>26.050591</td>\n      <td>2474.187886</td>\n      <td>29.454618</td>\n      <td>11.243533</td>\n      <td>1.678437e+06</td>\n      <td>19981.388932</td>\n      <td>991.041572</td>\n    </tr>\n  </tbody>\n</table>\n</div>",
      "text/plain": "                              Height                              Weight  \\\n                                 sum        mean        std          sum   \nGender Economic Status                                                     \nFemale Middle Class     14361.980068  159.577556  28.583235  5847.430996   \n       Poor             12131.208244  157.548159  26.088561  4665.039087   \n       Rich             14303.881090  160.717765  29.715635  5594.586313   \nMale   Middle Class     10230.668600  157.394902  31.910052  4002.441107   \n       Poor             15140.955341  159.378477  30.535200  6398.814513   \n       Rich             13274.135394  158.025421  30.448174  5374.954010   \n\n                                                      Age             \\\n                             mean        std          sum       mean   \nGender Economic Status                                                 \nFemale Middle Class     64.971456  27.305165  2657.956286  29.532848   \n       Poor             60.584923  26.178449  2433.251848  31.600673   \n       Rich             62.860520  25.874248  2677.337633  30.082445   \nMale   Middle Class     61.576017  23.189865  1873.058895  28.816291   \n       Poor             67.355942  26.075631  2965.271924  31.213389   \n       Rich             63.987548  26.050591  2474.187886  29.454618   \n\n                                         Income                             \n                              std           sum          mean          std  \nGender Economic Status                                                      \nFemale Middle Class     12.761027  1.790207e+06  19891.191064  1000.940545  \n       Poor             12.299335  1.531365e+06  19887.857453  1053.301623  \n       Rich             11.228165  1.749857e+06  19661.318758  1016.111582  \nMale   Middle Class     11.635436  1.288917e+06  19829.485851  1030.018019  \n       Poor             13.286752  1.890832e+06  19903.498228  1028.881852  \n       Rich             11.243533  1.678437e+06  19981.388932   991.041572  "
     },
     "execution_count": 26,
     "metadata": {},
     "output_type": "execute_result"
    }
   ],
   "source": [
    "double_group.aggregate([np.sum, np.mean, np.std])"
   ]
  },
  {
   "cell_type": "code",
   "execution_count": 28,
   "metadata": {},
   "outputs": [
    {
     "data": {
      "text/html": "<div>\n<style scoped>\n    .dataframe tbody tr th:only-of-type {\n        vertical-align: middle;\n    }\n\n    .dataframe tbody tr th {\n        vertical-align: top;\n    }\n\n    .dataframe thead tr th {\n        text-align: left;\n    }\n\n    .dataframe thead tr:last-of-type th {\n        text-align: right;\n    }\n</style>\n<table border=\"1\" class=\"dataframe\">\n  <thead>\n    <tr>\n      <th></th>\n      <th></th>\n      <th>Height</th>\n      <th>Weight</th>\n      <th>Age</th>\n      <th>Income</th>\n    </tr>\n    <tr>\n      <th></th>\n      <th></th>\n      <th>&lt;lambda&gt;</th>\n      <th>&lt;lambda&gt;</th>\n      <th>&lt;lambda&gt;</th>\n      <th>&lt;lambda&gt;</th>\n    </tr>\n    <tr>\n      <th>Gender</th>\n      <th>Economic Status</th>\n      <th></th>\n      <th></th>\n      <th></th>\n      <th></th>\n    </tr>\n  </thead>\n  <tbody>\n    <tr>\n      <th rowspan=\"3\" valign=\"top\">Female</th>\n      <th>Middle Class</th>\n      <td>5.614184</td>\n      <td>2.392787</td>\n      <td>2.327266</td>\n      <td>19.983831</td>\n    </tr>\n    <tr>\n      <th>Poor</th>\n      <td>6.078575</td>\n      <td>2.329481</td>\n      <td>2.586147</td>\n      <td>19.005260</td>\n    </tr>\n    <tr>\n      <th>Rich</th>\n      <td>5.439169</td>\n      <td>2.443227</td>\n      <td>2.694375</td>\n      <td>19.459197</td>\n    </tr>\n    <tr>\n      <th rowspan=\"3\" valign=\"top\">Male</th>\n      <th>Middle Class</th>\n      <td>4.970841</td>\n      <td>2.675963</td>\n      <td>2.495871</td>\n      <td>19.401411</td>\n    </tr>\n    <tr>\n      <th>Poor</th>\n      <td>5.247190</td>\n      <td>2.596803</td>\n      <td>2.361674</td>\n      <td>19.447411</td>\n    </tr>\n    <tr>\n      <th>Rich</th>\n      <td>5.221152</td>\n      <td>2.471033</td>\n      <td>2.635428</td>\n      <td>20.283103</td>\n    </tr>\n  </tbody>\n</table>\n</div>",
      "text/plain": "                          Height    Weight       Age     Income\n                        <lambda>  <lambda>  <lambda>   <lambda>\nGender Economic Status                                         \nFemale Middle Class     5.614184  2.392787  2.327266  19.983831\n       Poor             6.078575  2.329481  2.586147  19.005260\n       Rich             5.439169  2.443227  2.694375  19.459197\nMale   Middle Class     4.970841  2.675963  2.495871  19.401411\n       Poor             5.247190  2.596803  2.361674  19.447411\n       Rich             5.221152  2.471033  2.635428  20.283103"
     },
     "execution_count": 28,
     "metadata": {},
     "output_type": "execute_result"
    }
   ],
   "source": [
    "double_group.aggregate([lambda x: np.mean(x) / np.std(x)]) # tipificación de todas las columnas"
   ]
  },
  {
   "cell_type": "markdown",
   "metadata": {},
   "source": [
    "## Filtrado de datos"
   ]
  },
  {
   "cell_type": "markdown",
   "metadata": {},
   "source": [
    "### Filtrar grupos de edad cuya suma supera los 2400"
   ]
  },
  {
   "cell_type": "code",
   "execution_count": 29,
   "metadata": {},
   "outputs": [
    {
     "data": {
      "text/plain": "0      38.391042\n1      22.404734\n2      22.875945\n4      41.931960\n5      21.154363\n         ...    \n495    29.006713\n496    41.227035\n497    22.162579\n498    10.192493\n499    23.483843\nName: Age, Length: 435, dtype: float64"
     },
     "execution_count": 29,
     "metadata": {},
     "output_type": "execute_result"
    }
   ],
   "source": [
    "double_group['Age'].filter(lambda x: x.sum() > 2400) # devuelve los elementos"
   ]
  },
  {
   "cell_type": "markdown",
   "metadata": {},
   "source": [
    "## Transformación de variables"
   ]
  },
  {
   "cell_type": "markdown",
   "metadata": {},
   "source": [
    "### Unidad tipificada \n",
    "[Más info](https://es.wikipedia.org/wiki/Unidad_tipificada)"
   ]
  },
  {
   "cell_type": "code",
   "execution_count": 30,
   "metadata": {},
   "outputs": [],
   "source": [
    "zscore = lambda x : (x - x.mean()) / x.std()"
   ]
  },
  {
   "cell_type": "code",
   "execution_count": 38,
   "metadata": {},
   "outputs": [
    {
     "data": {
      "text/plain": "(array([  1.,   4.,  17.,  47.,  90., 127., 103.,  69.,  36.,   6.]),\n array([-3.58238233, -2.95931382, -2.33624531, -1.7131768 , -1.09010829,\n        -0.46703978,  0.15602873,  0.77909724,  1.40216575,  2.02523426,\n         2.64830277]),\n <a list of 10 Patch objects>)"
     },
     "execution_count": 38,
     "metadata": {},
     "output_type": "execute_result"
    },
    {
     "data": {
      "image/png": "[encoded data removed]",
      "image/svg+xml": "<?xml version=\"1.0\" encoding=\"utf-8\" standalone=\"no\"?>\n<!DOCTYPE svg PUBLIC \"-//W3C//DTD SVG 1.1//EN\"\n  \"http://www.w3.org/Graphics/SVG/1.1/DTD/svg11.dtd\">\n<!-- Created with matplotlib (https://matplotlib.org/) -->\n<svg height=\"248.518125pt\" version=\"1.1\" viewBox=\"0 0 375.2875 248.518125\" width=\"375.2875pt\" xmlns=\"http://www.w3.org/2000/svg\" xmlns:xlink=\"http://www.w3.org/1999/xlink\">\n <defs>\n  <style type=\"text/css\">\n*{stroke-linecap:butt;stroke-linejoin:round;}\n  </style>\n </defs>\n <g id=\"figure_1\">\n  <g id=\"patch_1\">\n   <path d=\"M 0 248.518125 \nL 375.2875 248.518125 \nL 375.2875 0 \nL 0 0 \nz\n\" style=\"fill:none;\"/>\n  </g>\n  <g id=\"axes_1\">\n   <g id=\"patch_2\">\n    <path d=\"M 33.2875 224.64 \nL 368.0875 224.64 \nL 368.0875 7.2 \nL 33.2875 7.2 \nz\n\" style=\"fill:#ffffff;\"/>\n   </g>\n   <g id=\"patch_3\">\n    <path clip-path=\"url(#p2810d2c9a8)\" d=\"M 48.505682 224.64 \nL 78.942045 224.64 \nL 78.942045 223.009404 \nL 48.505682 223.009404 \nz\n\" style=\"fill:#1f77b4;\"/>\n   </g>\n   <g id=\"patch_4\">\n    <path clip-path=\"url(#p2810d2c9a8)\" d=\"M 78.942045 224.64 \nL 109.378409 224.64 \nL 109.378409 218.117615 \nL 78.942045 218.117615 \nz\n\" style=\"fill:#1f77b4;\"/>\n   </g>\n   <g id=\"patch_5\">\n    <path clip-path=\"url(#p2810d2c9a8)\" d=\"M 109.378409 224.64 \nL 139.814773 224.64 \nL 139.814773 196.919865 \nL 109.378409 196.919865 \nz\n\" style=\"fill:#1f77b4;\"/>\n   </g>\n   <g id=\"patch_6\">\n    <path clip-path=\"url(#p2810d2c9a8)\" d=\"M 139.814773 224.64 \nL 170.251136 224.64 \nL 170.251136 148.00198 \nL 139.814773 148.00198 \nz\n\" style=\"fill:#1f77b4;\"/>\n   </g>\n   <g id=\"patch_7\">\n    <path clip-path=\"url(#p2810d2c9a8)\" d=\"M 170.251136 224.64 \nL 200.6875 224.64 \nL 200.6875 77.886344 \nL 170.251136 77.886344 \nz\n\" style=\"fill:#1f77b4;\"/>\n   </g>\n   <g id=\"patch_8\">\n    <path clip-path=\"url(#p2810d2c9a8)\" d=\"M 200.6875 224.64 \nL 231.123864 224.64 \nL 231.123864 17.554286 \nL 200.6875 17.554286 \nz\n\" style=\"fill:#1f77b4;\"/>\n   </g>\n   <g id=\"patch_9\">\n    <path clip-path=\"url(#p2810d2c9a8)\" d=\"M 231.123864 224.64 \nL 261.560227 224.64 \nL 261.560227 56.688594 \nL 231.123864 56.688594 \nz\n\" style=\"fill:#1f77b4;\"/>\n   </g>\n   <g id=\"patch_10\">\n    <path clip-path=\"url(#p2810d2c9a8)\" d=\"M 261.560227 224.64 \nL 291.996591 224.64 \nL 291.996591 112.128864 \nL 261.560227 112.128864 \nz\n\" style=\"fill:#1f77b4;\"/>\n   </g>\n   <g id=\"patch_11\">\n    <path clip-path=\"url(#p2810d2c9a8)\" d=\"M 291.996591 224.64 \nL 322.432955 224.64 \nL 322.432955 165.938538 \nL 291.996591 165.938538 \nz\n\" style=\"fill:#1f77b4;\"/>\n   </g>\n   <g id=\"patch_12\">\n    <path clip-path=\"url(#p2810d2c9a8)\" d=\"M 322.432955 224.64 \nL 352.869318 224.64 \nL 352.869318 214.856423 \nL 322.432955 214.856423 \nz\n\" style=\"fill:#1f77b4;\"/>\n   </g>\n   <g id=\"matplotlib.axis_1\">\n    <g id=\"xtick_1\">\n     <g id=\"line2d_1\">\n      <defs>\n       <path d=\"M 0 0 \nL 0 3.5 \n\" id=\"m4951240e08\" style=\"stroke:#000000;stroke-width:0.8;\"/>\n      </defs>\n      <g>\n       <use style=\"stroke:#000000;stroke-width:0.8;\" x=\"76.95456\" xlink:href=\"#m4951240e08\" y=\"224.64\"/>\n      </g>\n     </g>\n     <g id=\"text_1\">\n      <!-- −3 -->\n      <defs>\n       <path d=\"M 10.59375 35.5 \nL 73.1875 35.5 \nL 73.1875 27.203125 \nL 10.59375 27.203125 \nz\n\" id=\"DejaVuSans-8722\"/>\n       <path d=\"M 40.578125 39.3125 \nQ 47.65625 37.796875 51.625 33 \nQ 55.609375 28.21875 55.609375 21.1875 \nQ 55.609375 10.40625 48.1875 4.484375 \nQ 40.765625 -1.421875 27.09375 -1.421875 \nQ 22.515625 -1.421875 17.65625 -0.515625 \nQ 12.796875 0.390625 7.625 2.203125 \nL 7.625 11.71875 \nQ 11.71875 9.328125 16.59375 8.109375 \nQ 21.484375 6.890625 26.8125 6.890625 \nQ 36.078125 6.890625 40.9375 10.546875 \nQ 45.796875 14.203125 45.796875 21.1875 \nQ 45.796875 27.640625 41.28125 31.265625 \nQ 36.765625 34.90625 28.71875 34.90625 \nL 20.21875 34.90625 \nL 20.21875 43.015625 \nL 29.109375 43.015625 \nQ 36.375 43.015625 40.234375 45.921875 \nQ 44.09375 48.828125 44.09375 54.296875 \nQ 44.09375 59.90625 40.109375 62.90625 \nQ 36.140625 65.921875 28.71875 65.921875 \nQ 24.65625 65.921875 20.015625 65.03125 \nQ 15.375 64.15625 9.8125 62.3125 \nL 9.8125 71.09375 \nQ 15.4375 72.65625 20.34375 73.4375 \nQ 25.25 74.21875 29.59375 74.21875 \nQ 40.828125 74.21875 47.359375 69.109375 \nQ 53.90625 64.015625 53.90625 55.328125 \nQ 53.90625 49.265625 50.4375 45.09375 \nQ 46.96875 40.921875 40.578125 39.3125 \nz\n\" id=\"DejaVuSans-51\"/>\n      </defs>\n      <g transform=\"translate(69.583467 239.238437)scale(0.1 -0.1)\">\n       <use xlink:href=\"#DejaVuSans-8722\"/>\n       <use x=\"83.789062\" xlink:href=\"#DejaVuSans-51\"/>\n      </g>\n     </g>\n    </g>\n    <g id=\"xtick_2\">\n     <g id=\"line2d_2\">\n      <g>\n       <use style=\"stroke:#000000;stroke-width:0.8;\" x=\"125.803705\" xlink:href=\"#m4951240e08\" y=\"224.64\"/>\n      </g>\n     </g>\n     <g id=\"text_2\">\n      <!-- −2 -->\n      <defs>\n       <path d=\"M 19.1875 8.296875 \nL 53.609375 8.296875 \nL 53.609375 0 \nL 7.328125 0 \nL 7.328125 8.296875 \nQ 12.9375 14.109375 22.625 23.890625 \nQ 32.328125 33.6875 34.8125 36.53125 \nQ 39.546875 41.84375 41.421875 45.53125 \nQ 43.3125 49.21875 43.3125 52.78125 \nQ 43.3125 58.59375 39.234375 62.25 \nQ 35.15625 65.921875 28.609375 65.921875 \nQ 23.96875 65.921875 18.8125 64.3125 \nQ 13.671875 62.703125 7.8125 59.421875 \nL 7.8125 69.390625 \nQ 13.765625 71.78125 18.9375 73 \nQ 24.125 74.21875 28.421875 74.21875 \nQ 39.75 74.21875 46.484375 68.546875 \nQ 53.21875 62.890625 53.21875 53.421875 \nQ 53.21875 48.921875 51.53125 44.890625 \nQ 49.859375 40.875 45.40625 35.40625 \nQ 44.1875 33.984375 37.640625 27.21875 \nQ 31.109375 20.453125 19.1875 8.296875 \nz\n\" id=\"DejaVuSans-50\"/>\n      </defs>\n      <g transform=\"translate(118.432611 239.238437)scale(0.1 -0.1)\">\n       <use xlink:href=\"#DejaVuSans-8722\"/>\n       <use x=\"83.789062\" xlink:href=\"#DejaVuSans-50\"/>\n      </g>\n     </g>\n    </g>\n    <g id=\"xtick_3\">\n     <g id=\"line2d_3\">\n      <g>\n       <use style=\"stroke:#000000;stroke-width:0.8;\" x=\"174.652849\" xlink:href=\"#m4951240e08\" y=\"224.64\"/>\n      </g>\n     </g>\n     <g id=\"text_3\">\n      <!-- −1 -->\n      <defs>\n       <path d=\"M 12.40625 8.296875 \nL 28.515625 8.296875 \nL 28.515625 63.921875 \nL 10.984375 60.40625 \nL 10.984375 69.390625 \nL 28.421875 72.90625 \nL 38.28125 72.90625 \nL 38.28125 8.296875 \nL 54.390625 8.296875 \nL 54.390625 0 \nL 12.40625 0 \nz\n\" id=\"DejaVuSans-49\"/>\n      </defs>\n      <g transform=\"translate(167.281756 239.238437)scale(0.1 -0.1)\">\n       <use xlink:href=\"#DejaVuSans-8722\"/>\n       <use x=\"83.789062\" xlink:href=\"#DejaVuSans-49\"/>\n      </g>\n     </g>\n    </g>\n    <g id=\"xtick_4\">\n     <g id=\"line2d_4\">\n      <g>\n       <use style=\"stroke:#000000;stroke-width:0.8;\" x=\"223.501994\" xlink:href=\"#m4951240e08\" y=\"224.64\"/>\n      </g>\n     </g>\n     <g id=\"text_4\">\n      <!-- 0 -->\n      <defs>\n       <path d=\"M 31.78125 66.40625 \nQ 24.171875 66.40625 20.328125 58.90625 \nQ 16.5 51.421875 16.5 36.375 \nQ 16.5 21.390625 20.328125 13.890625 \nQ 24.171875 6.390625 31.78125 6.390625 \nQ 39.453125 6.390625 43.28125 13.890625 \nQ 47.125 21.390625 47.125 36.375 \nQ 47.125 51.421875 43.28125 58.90625 \nQ 39.453125 66.40625 31.78125 66.40625 \nz\nM 31.78125 74.21875 \nQ 44.046875 74.21875 50.515625 64.515625 \nQ 56.984375 54.828125 56.984375 36.375 \nQ 56.984375 17.96875 50.515625 8.265625 \nQ 44.046875 -1.421875 31.78125 -1.421875 \nQ 19.53125 -1.421875 13.0625 8.265625 \nQ 6.59375 17.96875 6.59375 36.375 \nQ 6.59375 54.828125 13.0625 64.515625 \nQ 19.53125 74.21875 31.78125 74.21875 \nz\n\" id=\"DejaVuSans-48\"/>\n      </defs>\n      <g transform=\"translate(220.320744 239.238437)scale(0.1 -0.1)\">\n       <use xlink:href=\"#DejaVuSans-48\"/>\n      </g>\n     </g>\n    </g>\n    <g id=\"xtick_5\">\n     <g id=\"line2d_5\">\n      <g>\n       <use style=\"stroke:#000000;stroke-width:0.8;\" x=\"272.351138\" xlink:href=\"#m4951240e08\" y=\"224.64\"/>\n      </g>\n     </g>\n     <g id=\"text_5\">\n      <!-- 1 -->\n      <g transform=\"translate(269.169888 239.238437)scale(0.1 -0.1)\">\n       <use xlink:href=\"#DejaVuSans-49\"/>\n      </g>\n     </g>\n    </g>\n    <g id=\"xtick_6\">\n     <g id=\"line2d_6\">\n      <g>\n       <use style=\"stroke:#000000;stroke-width:0.8;\" x=\"321.200283\" xlink:href=\"#m4951240e08\" y=\"224.64\"/>\n      </g>\n     </g>\n     <g id=\"text_6\">\n      <!-- 2 -->\n      <g transform=\"translate(318.019033 239.238437)scale(0.1 -0.1)\">\n       <use xlink:href=\"#DejaVuSans-50\"/>\n      </g>\n     </g>\n    </g>\n   </g>\n   <g id=\"matplotlib.axis_2\">\n    <g id=\"ytick_1\">\n     <g id=\"line2d_7\">\n      <defs>\n       <path d=\"M 0 0 \nL -3.5 0 \n\" id=\"m06f53e9652\" style=\"stroke:#000000;stroke-width:0.8;\"/>\n      </defs>\n      <g>\n       <use style=\"stroke:#000000;stroke-width:0.8;\" x=\"33.2875\" xlink:href=\"#m06f53e9652\" y=\"224.64\"/>\n      </g>\n     </g>\n     <g id=\"text_7\">\n      <!-- 0 -->\n      <g transform=\"translate(19.925 228.439219)scale(0.1 -0.1)\">\n       <use xlink:href=\"#DejaVuSans-48\"/>\n      </g>\n     </g>\n    </g>\n    <g id=\"ytick_2\">\n     <g id=\"line2d_8\">\n      <g>\n       <use style=\"stroke:#000000;stroke-width:0.8;\" x=\"33.2875\" xlink:href=\"#m06f53e9652\" y=\"192.028076\"/>\n      </g>\n     </g>\n     <g id=\"text_8\">\n      <!-- 20 -->\n      <g transform=\"translate(13.5625 195.827295)scale(0.1 -0.1)\">\n       <use xlink:href=\"#DejaVuSans-50\"/>\n       <use x=\"63.623047\" xlink:href=\"#DejaVuSans-48\"/>\n      </g>\n     </g>\n    </g>\n    <g id=\"ytick_3\">\n     <g id=\"line2d_9\">\n      <g>\n       <use style=\"stroke:#000000;stroke-width:0.8;\" x=\"33.2875\" xlink:href=\"#m06f53e9652\" y=\"159.416153\"/>\n      </g>\n     </g>\n     <g id=\"text_9\">\n      <!-- 40 -->\n      <defs>\n       <path d=\"M 37.796875 64.3125 \nL 12.890625 25.390625 \nL 37.796875 25.390625 \nz\nM 35.203125 72.90625 \nL 47.609375 72.90625 \nL 47.609375 25.390625 \nL 58.015625 25.390625 \nL 58.015625 17.1875 \nL 47.609375 17.1875 \nL 47.609375 0 \nL 37.796875 0 \nL 37.796875 17.1875 \nL 4.890625 17.1875 \nL 4.890625 26.703125 \nz\n\" id=\"DejaVuSans-52\"/>\n      </defs>\n      <g transform=\"translate(13.5625 163.215372)scale(0.1 -0.1)\">\n       <use xlink:href=\"#DejaVuSans-52\"/>\n       <use x=\"63.623047\" xlink:href=\"#DejaVuSans-48\"/>\n      </g>\n     </g>\n    </g>\n    <g id=\"ytick_4\">\n     <g id=\"line2d_10\">\n      <g>\n       <use style=\"stroke:#000000;stroke-width:0.8;\" x=\"33.2875\" xlink:href=\"#m06f53e9652\" y=\"126.804229\"/>\n      </g>\n     </g>\n     <g id=\"text_10\">\n      <!-- 60 -->\n      <defs>\n       <path d=\"M 33.015625 40.375 \nQ 26.375 40.375 22.484375 35.828125 \nQ 18.609375 31.296875 18.609375 23.390625 \nQ 18.609375 15.53125 22.484375 10.953125 \nQ 26.375 6.390625 33.015625 6.390625 \nQ 39.65625 6.390625 43.53125 10.953125 \nQ 47.40625 15.53125 47.40625 23.390625 \nQ 47.40625 31.296875 43.53125 35.828125 \nQ 39.65625 40.375 33.015625 40.375 \nz\nM 52.59375 71.296875 \nL 52.59375 62.3125 \nQ 48.875 64.0625 45.09375 64.984375 \nQ 41.3125 65.921875 37.59375 65.921875 \nQ 27.828125 65.921875 22.671875 59.328125 \nQ 17.53125 52.734375 16.796875 39.40625 \nQ 19.671875 43.65625 24.015625 45.921875 \nQ 28.375 48.1875 33.59375 48.1875 \nQ 44.578125 48.1875 50.953125 41.515625 \nQ 57.328125 34.859375 57.328125 23.390625 \nQ 57.328125 12.15625 50.6875 5.359375 \nQ 44.046875 -1.421875 33.015625 -1.421875 \nQ 20.359375 -1.421875 13.671875 8.265625 \nQ 6.984375 17.96875 6.984375 36.375 \nQ 6.984375 53.65625 15.1875 63.9375 \nQ 23.390625 74.21875 37.203125 74.21875 \nQ 40.921875 74.21875 44.703125 73.484375 \nQ 48.484375 72.75 52.59375 71.296875 \nz\n\" id=\"DejaVuSans-54\"/>\n      </defs>\n      <g transform=\"translate(13.5625 130.603448)scale(0.1 -0.1)\">\n       <use xlink:href=\"#DejaVuSans-54\"/>\n       <use x=\"63.623047\" xlink:href=\"#DejaVuSans-48\"/>\n      </g>\n     </g>\n    </g>\n    <g id=\"ytick_5\">\n     <g id=\"line2d_11\">\n      <g>\n       <use style=\"stroke:#000000;stroke-width:0.8;\" x=\"33.2875\" xlink:href=\"#m06f53e9652\" y=\"94.192306\"/>\n      </g>\n     </g>\n     <g id=\"text_11\">\n      <!-- 80 -->\n      <defs>\n       <path d=\"M 31.78125 34.625 \nQ 24.75 34.625 20.71875 30.859375 \nQ 16.703125 27.09375 16.703125 20.515625 \nQ 16.703125 13.921875 20.71875 10.15625 \nQ 24.75 6.390625 31.78125 6.390625 \nQ 38.8125 6.390625 42.859375 10.171875 \nQ 46.921875 13.96875 46.921875 20.515625 \nQ 46.921875 27.09375 42.890625 30.859375 \nQ 38.875 34.625 31.78125 34.625 \nz\nM 21.921875 38.8125 \nQ 15.578125 40.375 12.03125 44.71875 \nQ 8.5 49.078125 8.5 55.328125 \nQ 8.5 64.0625 14.71875 69.140625 \nQ 20.953125 74.21875 31.78125 74.21875 \nQ 42.671875 74.21875 48.875 69.140625 \nQ 55.078125 64.0625 55.078125 55.328125 \nQ 55.078125 49.078125 51.53125 44.71875 \nQ 48 40.375 41.703125 38.8125 \nQ 48.828125 37.15625 52.796875 32.3125 \nQ 56.78125 27.484375 56.78125 20.515625 \nQ 56.78125 9.90625 50.3125 4.234375 \nQ 43.84375 -1.421875 31.78125 -1.421875 \nQ 19.734375 -1.421875 13.25 4.234375 \nQ 6.78125 9.90625 6.78125 20.515625 \nQ 6.78125 27.484375 10.78125 32.3125 \nQ 14.796875 37.15625 21.921875 38.8125 \nz\nM 18.3125 54.390625 \nQ 18.3125 48.734375 21.84375 45.5625 \nQ 25.390625 42.390625 31.78125 42.390625 \nQ 38.140625 42.390625 41.71875 45.5625 \nQ 45.3125 48.734375 45.3125 54.390625 \nQ 45.3125 60.0625 41.71875 63.234375 \nQ 38.140625 66.40625 31.78125 66.40625 \nQ 25.390625 66.40625 21.84375 63.234375 \nQ 18.3125 60.0625 18.3125 54.390625 \nz\n\" id=\"DejaVuSans-56\"/>\n      </defs>\n      <g transform=\"translate(13.5625 97.991525)scale(0.1 -0.1)\">\n       <use xlink:href=\"#DejaVuSans-56\"/>\n       <use x=\"63.623047\" xlink:href=\"#DejaVuSans-48\"/>\n      </g>\n     </g>\n    </g>\n    <g id=\"ytick_6\">\n     <g id=\"line2d_12\">\n      <g>\n       <use style=\"stroke:#000000;stroke-width:0.8;\" x=\"33.2875\" xlink:href=\"#m06f53e9652\" y=\"61.580382\"/>\n      </g>\n     </g>\n     <g id=\"text_12\">\n      <!-- 100 -->\n      <g transform=\"translate(7.2 65.379601)scale(0.1 -0.1)\">\n       <use xlink:href=\"#DejaVuSans-49\"/>\n       <use x=\"63.623047\" xlink:href=\"#DejaVuSans-48\"/>\n       <use x=\"127.246094\" xlink:href=\"#DejaVuSans-48\"/>\n      </g>\n     </g>\n    </g>\n    <g id=\"ytick_7\">\n     <g id=\"line2d_13\">\n      <g>\n       <use style=\"stroke:#000000;stroke-width:0.8;\" x=\"33.2875\" xlink:href=\"#m06f53e9652\" y=\"28.968459\"/>\n      </g>\n     </g>\n     <g id=\"text_13\">\n      <!-- 120 -->\n      <g transform=\"translate(7.2 32.767678)scale(0.1 -0.1)\">\n       <use xlink:href=\"#DejaVuSans-49\"/>\n       <use x=\"63.623047\" xlink:href=\"#DejaVuSans-50\"/>\n       <use x=\"127.246094\" xlink:href=\"#DejaVuSans-48\"/>\n      </g>\n     </g>\n    </g>\n   </g>\n   <g id=\"patch_13\">\n    <path d=\"M 33.2875 224.64 \nL 33.2875 7.2 \n\" style=\"fill:none;stroke:#000000;stroke-linecap:square;stroke-linejoin:miter;stroke-width:0.8;\"/>\n   </g>\n   <g id=\"patch_14\">\n    <path d=\"M 368.0875 224.64 \nL 368.0875 7.2 \n\" style=\"fill:none;stroke:#000000;stroke-linecap:square;stroke-linejoin:miter;stroke-width:0.8;\"/>\n   </g>\n   <g id=\"patch_15\">\n    <path d=\"M 33.2875 224.64 \nL 368.0875 224.64 \n\" style=\"fill:none;stroke:#000000;stroke-linecap:square;stroke-linejoin:miter;stroke-width:0.8;\"/>\n   </g>\n   <g id=\"patch_16\">\n    <path d=\"M 33.2875 7.2 \nL 368.0875 7.2 \n\" style=\"fill:none;stroke:#000000;stroke-linecap:square;stroke-linejoin:miter;stroke-width:0.8;\"/>\n   </g>\n  </g>\n </g>\n <defs>\n  <clipPath id=\"p2810d2c9a8\">\n   <rect height=\"217.44\" width=\"334.8\" x=\"33.2875\" y=\"7.2\"/>\n  </clipPath>\n </defs>\n</svg>\n",
      "text/plain": "<Figure size 432x288 with 1 Axes>"
     },
     "metadata": {
      "needs_background": "light"
     },
     "output_type": "display_data"
    }
   ],
   "source": [
    "z_group = double_group.transform(zscore) # datos normalizados\n",
    "plt.hist(z_group['Age'])"
   ]
  },
  {
   "cell_type": "markdown",
   "metadata": {},
   "source": [
    "### Reemplazar NaN"
   ]
  },
  {
   "cell_type": "code",
   "execution_count": 40,
   "metadata": {},
   "outputs": [],
   "source": [
    "fill_na_mean = lambda x : x.fillna(x.mean())"
   ]
  },
  {
   "cell_type": "code",
   "execution_count": 41,
   "metadata": {},
   "outputs": [
    {
     "data": {
      "text/html": "<div>\n<style scoped>\n    .dataframe tbody tr th:only-of-type {\n        vertical-align: middle;\n    }\n\n    .dataframe tbody tr th {\n        vertical-align: top;\n    }\n\n    .dataframe thead th {\n        text-align: right;\n    }\n</style>\n<table border=\"1\" class=\"dataframe\">\n  <thead>\n    <tr style=\"text-align: right;\">\n      <th></th>\n      <th>Height</th>\n      <th>Weight</th>\n      <th>Age</th>\n      <th>Income</th>\n    </tr>\n  </thead>\n  <tbody>\n    <tr>\n      <th>0</th>\n      <td>162.741308</td>\n      <td>15.009735</td>\n      <td>38.391042</td>\n      <td>20789.950252</td>\n    </tr>\n    <tr>\n      <th>1</th>\n      <td>166.051831</td>\n      <td>55.192639</td>\n      <td>22.404734</td>\n      <td>18604.433181</td>\n    </tr>\n    <tr>\n      <th>2</th>\n      <td>114.984160</td>\n      <td>34.866077</td>\n      <td>22.875945</td>\n      <td>21480.505941</td>\n    </tr>\n    <tr>\n      <th>3</th>\n      <td>157.256101</td>\n      <td>20.046422</td>\n      <td>43.607325</td>\n      <td>20821.045617</td>\n    </tr>\n    <tr>\n      <th>4</th>\n      <td>159.044562</td>\n      <td>63.104907</td>\n      <td>41.931960</td>\n      <td>18468.900229</td>\n    </tr>\n    <tr>\n      <th>...</th>\n      <td>...</td>\n      <td>...</td>\n      <td>...</td>\n      <td>...</td>\n    </tr>\n    <tr>\n      <th>495</th>\n      <td>147.959698</td>\n      <td>78.244676</td>\n      <td>29.006713</td>\n      <td>19054.399199</td>\n    </tr>\n    <tr>\n      <th>496</th>\n      <td>196.442207</td>\n      <td>36.212842</td>\n      <td>41.227035</td>\n      <td>19275.683331</td>\n    </tr>\n    <tr>\n      <th>497</th>\n      <td>157.794535</td>\n      <td>59.243183</td>\n      <td>22.162579</td>\n      <td>20748.427140</td>\n    </tr>\n    <tr>\n      <th>498</th>\n      <td>216.601049</td>\n      <td>84.901687</td>\n      <td>10.192493</td>\n      <td>18227.548012</td>\n    </tr>\n    <tr>\n      <th>499</th>\n      <td>220.096520</td>\n      <td>49.341032</td>\n      <td>23.483843</td>\n      <td>18027.518442</td>\n    </tr>\n  </tbody>\n</table>\n<p>500 rows × 4 columns</p>\n</div>",
      "text/plain": "         Height     Weight        Age        Income\n0    162.741308  15.009735  38.391042  20789.950252\n1    166.051831  55.192639  22.404734  18604.433181\n2    114.984160  34.866077  22.875945  21480.505941\n3    157.256101  20.046422  43.607325  20821.045617\n4    159.044562  63.104907  41.931960  18468.900229\n..          ...        ...        ...           ...\n495  147.959698  78.244676  29.006713  19054.399199\n496  196.442207  36.212842  41.227035  19275.683331\n497  157.794535  59.243183  22.162579  20748.427140\n498  216.601049  84.901687  10.192493  18227.548012\n499  220.096520  49.341032  23.483843  18027.518442\n\n[500 rows x 4 columns]"
     },
     "execution_count": 41,
     "metadata": {},
     "output_type": "execute_result"
    }
   ],
   "source": [
    "double_group.transform(fill_na_mean)"
   ]
  },
  {
   "cell_type": "markdown",
   "metadata": {},
   "source": [
    "En este caso no hay NaNs porque es un Dummy DataFrame"
   ]
  },
  {
   "cell_type": "markdown",
   "metadata": {},
   "source": [
    "## Otras operaciones"
   ]
  },
  {
   "cell_type": "markdown",
   "metadata": {},
   "source": [
    "### Obtener una determinada fila"
   ]
  },
  {
   "cell_type": "code",
   "execution_count": 42,
   "metadata": {},
   "outputs": [
    {
     "data": {
      "text/html": "<div>\n<style scoped>\n    .dataframe tbody tr th:only-of-type {\n        vertical-align: middle;\n    }\n\n    .dataframe tbody tr th {\n        vertical-align: top;\n    }\n\n    .dataframe thead th {\n        text-align: right;\n    }\n</style>\n<table border=\"1\" class=\"dataframe\">\n  <thead>\n    <tr style=\"text-align: right;\">\n      <th></th>\n      <th>Gender</th>\n      <th>Economic Status</th>\n      <th>Height</th>\n      <th>Weight</th>\n      <th>Age</th>\n      <th>Income</th>\n    </tr>\n  </thead>\n  <tbody>\n    <tr>\n      <th>0</th>\n      <td>Male</td>\n      <td>Poor</td>\n      <td>162.741308</td>\n      <td>15.009735</td>\n      <td>38.391042</td>\n      <td>20789.950252</td>\n    </tr>\n    <tr>\n      <th>1</th>\n      <td>Female</td>\n      <td>Poor</td>\n      <td>166.051831</td>\n      <td>55.192639</td>\n      <td>22.404734</td>\n      <td>18604.433181</td>\n    </tr>\n    <tr>\n      <th>2</th>\n      <td>Female</td>\n      <td>Middle Class</td>\n      <td>114.984160</td>\n      <td>34.866077</td>\n      <td>22.875945</td>\n      <td>21480.505941</td>\n    </tr>\n    <tr>\n      <th>3</th>\n      <td>Male</td>\n      <td>Middle Class</td>\n      <td>157.256101</td>\n      <td>20.046422</td>\n      <td>43.607325</td>\n      <td>20821.045617</td>\n    </tr>\n    <tr>\n      <th>5</th>\n      <td>Female</td>\n      <td>Rich</td>\n      <td>165.783987</td>\n      <td>5.804551</td>\n      <td>21.154363</td>\n      <td>18497.155895</td>\n    </tr>\n    <tr>\n      <th>11</th>\n      <td>Male</td>\n      <td>Rich</td>\n      <td>180.476262</td>\n      <td>65.271986</td>\n      <td>17.240237</td>\n      <td>18927.636394</td>\n    </tr>\n  </tbody>\n</table>\n</div>",
      "text/plain": "    Gender Economic Status      Height     Weight        Age        Income\n0     Male            Poor  162.741308  15.009735  38.391042  20789.950252\n1   Female            Poor  166.051831  55.192639  22.404734  18604.433181\n2   Female    Middle Class  114.984160  34.866077  22.875945  21480.505941\n3     Male    Middle Class  157.256101  20.046422  43.607325  20821.045617\n5   Female            Rich  165.783987   5.804551  21.154363  18497.155895\n11    Male            Rich  180.476262  65.271986  17.240237  18927.636394"
     },
     "execution_count": 42,
     "metadata": {},
     "output_type": "execute_result"
    }
   ],
   "source": [
    "double_group.head(1) # primera fila de cada uno de los grupos"
   ]
  },
  {
   "cell_type": "code",
   "execution_count": 43,
   "metadata": {},
   "outputs": [
    {
     "data": {
      "text/html": "<div>\n<style scoped>\n    .dataframe tbody tr th:only-of-type {\n        vertical-align: middle;\n    }\n\n    .dataframe tbody tr th {\n        vertical-align: top;\n    }\n\n    .dataframe thead th {\n        text-align: right;\n    }\n</style>\n<table border=\"1\" class=\"dataframe\">\n  <thead>\n    <tr style=\"text-align: right;\">\n      <th></th>\n      <th>Gender</th>\n      <th>Economic Status</th>\n      <th>Height</th>\n      <th>Weight</th>\n      <th>Age</th>\n      <th>Income</th>\n    </tr>\n  </thead>\n  <tbody>\n    <tr>\n      <th>485</th>\n      <td>Female</td>\n      <td>Poor</td>\n      <td>148.108800</td>\n      <td>68.205256</td>\n      <td>33.977284</td>\n      <td>18010.033108</td>\n    </tr>\n    <tr>\n      <th>486</th>\n      <td>Male</td>\n      <td>Rich</td>\n      <td>148.692447</td>\n      <td>42.962194</td>\n      <td>39.376972</td>\n      <td>19722.448831</td>\n    </tr>\n    <tr>\n      <th>492</th>\n      <td>Male</td>\n      <td>Middle Class</td>\n      <td>127.700933</td>\n      <td>44.663853</td>\n      <td>25.155845</td>\n      <td>18261.647547</td>\n    </tr>\n    <tr>\n      <th>495</th>\n      <td>Female</td>\n      <td>Rich</td>\n      <td>147.959698</td>\n      <td>78.244676</td>\n      <td>29.006713</td>\n      <td>19054.399199</td>\n    </tr>\n    <tr>\n      <th>498</th>\n      <td>Female</td>\n      <td>Middle Class</td>\n      <td>216.601049</td>\n      <td>84.901687</td>\n      <td>10.192493</td>\n      <td>18227.548012</td>\n    </tr>\n    <tr>\n      <th>499</th>\n      <td>Male</td>\n      <td>Poor</td>\n      <td>220.096520</td>\n      <td>49.341032</td>\n      <td>23.483843</td>\n      <td>18027.518442</td>\n    </tr>\n  </tbody>\n</table>\n</div>",
      "text/plain": "     Gender Economic Status      Height     Weight        Age        Income\n485  Female            Poor  148.108800  68.205256  33.977284  18010.033108\n486    Male            Rich  148.692447  42.962194  39.376972  19722.448831\n492    Male    Middle Class  127.700933  44.663853  25.155845  18261.647547\n495  Female            Rich  147.959698  78.244676  29.006713  19054.399199\n498  Female    Middle Class  216.601049  84.901687  10.192493  18227.548012\n499    Male            Poor  220.096520  49.341032  23.483843  18027.518442"
     },
     "execution_count": 43,
     "metadata": {},
     "output_type": "execute_result"
    }
   ],
   "source": [
    "double_group.tail(1) # ultima fila de cada uno de los grupos"
   ]
  },
  {
   "cell_type": "code",
   "execution_count": 44,
   "metadata": {},
   "outputs": [
    {
     "data": {
      "text/html": "<div>\n<style scoped>\n    .dataframe tbody tr th:only-of-type {\n        vertical-align: middle;\n    }\n\n    .dataframe tbody tr th {\n        vertical-align: top;\n    }\n\n    .dataframe thead th {\n        text-align: right;\n    }\n</style>\n<table border=\"1\" class=\"dataframe\">\n  <thead>\n    <tr style=\"text-align: right;\">\n      <th></th>\n      <th></th>\n      <th>Height</th>\n      <th>Weight</th>\n      <th>Age</th>\n      <th>Income</th>\n    </tr>\n    <tr>\n      <th>Gender</th>\n      <th>Economic Status</th>\n      <th></th>\n      <th></th>\n      <th></th>\n      <th></th>\n    </tr>\n  </thead>\n  <tbody>\n    <tr>\n      <th rowspan=\"3\" valign=\"top\">Female</th>\n      <th>Middle Class</th>\n      <td>151.166131</td>\n      <td>89.020692</td>\n      <td>57.986108</td>\n      <td>20972.054453</td>\n    </tr>\n    <tr>\n      <th>Poor</th>\n      <td>206.473727</td>\n      <td>87.793936</td>\n      <td>43.442236</td>\n      <td>21119.346958</td>\n    </tr>\n    <tr>\n      <th>Rich</th>\n      <td>108.857306</td>\n      <td>65.621977</td>\n      <td>47.278021</td>\n      <td>19200.366359</td>\n    </tr>\n    <tr>\n      <th rowspan=\"3\" valign=\"top\">Male</th>\n      <th>Middle Class</th>\n      <td>174.060747</td>\n      <td>82.032181</td>\n      <td>31.847971</td>\n      <td>21031.469370</td>\n    </tr>\n    <tr>\n      <th>Poor</th>\n      <td>153.871942</td>\n      <td>47.480839</td>\n      <td>19.502756</td>\n      <td>18925.787989</td>\n    </tr>\n    <tr>\n      <th>Rich</th>\n      <td>171.114309</td>\n      <td>81.890583</td>\n      <td>21.223737</td>\n      <td>19703.031330</td>\n    </tr>\n  </tbody>\n</table>\n</div>",
      "text/plain": "                            Height     Weight        Age        Income\nGender Economic Status                                                \nFemale Middle Class     151.166131  89.020692  57.986108  20972.054453\n       Poor             206.473727  87.793936  43.442236  21119.346958\n       Rich             108.857306  65.621977  47.278021  19200.366359\nMale   Middle Class     174.060747  82.032181  31.847971  21031.469370\n       Poor             153.871942  47.480839  19.502756  18925.787989\n       Rich             171.114309  81.890583  21.223737  19703.031330"
     },
     "execution_count": 44,
     "metadata": {},
     "output_type": "execute_result"
    }
   ],
   "source": [
    "double_group.nth(32) # cada uno de los grupos debe tener al menos 32 filas"
   ]
  },
  {
   "cell_type": "markdown",
   "metadata": {},
   "source": [
    "### Ordenar por una determinada columna"
   ]
  },
  {
   "cell_type": "code",
   "execution_count": 46,
   "metadata": {},
   "outputs": [],
   "source": [
    "data_sorted = data.sort_values(['Age','Income'])"
   ]
  },
  {
   "cell_type": "code",
   "execution_count": 47,
   "metadata": {},
   "outputs": [
    {
     "data": {
      "text/html": "<div>\n<style scoped>\n    .dataframe tbody tr th:only-of-type {\n        vertical-align: middle;\n    }\n\n    .dataframe tbody tr th {\n        vertical-align: top;\n    }\n\n    .dataframe thead th {\n        text-align: right;\n    }\n</style>\n<table border=\"1\" class=\"dataframe\">\n  <thead>\n    <tr style=\"text-align: right;\">\n      <th></th>\n      <th>Gender</th>\n      <th>Economic Status</th>\n      <th>Height</th>\n      <th>Weight</th>\n      <th>Age</th>\n      <th>Income</th>\n    </tr>\n  </thead>\n  <tbody>\n    <tr>\n      <th>296</th>\n      <td>Male</td>\n      <td>Poor</td>\n      <td>123.255478</td>\n      <td>70.331061</td>\n      <td>-16.384838</td>\n      <td>20671.228701</td>\n    </tr>\n    <tr>\n      <th>276</th>\n      <td>Female</td>\n      <td>Poor</td>\n      <td>180.633069</td>\n      <td>31.183331</td>\n      <td>-3.455120</td>\n      <td>20672.520893</td>\n    </tr>\n    <tr>\n      <th>343</th>\n      <td>Female</td>\n      <td>Rich</td>\n      <td>135.678928</td>\n      <td>96.062215</td>\n      <td>-1.713753</td>\n      <td>20163.003977</td>\n    </tr>\n    <tr>\n      <th>201</th>\n      <td>Male</td>\n      <td>Poor</td>\n      <td>136.422109</td>\n      <td>62.456833</td>\n      <td>-0.559267</td>\n      <td>21097.722893</td>\n    </tr>\n    <tr>\n      <th>207</th>\n      <td>Male</td>\n      <td>Poor</td>\n      <td>156.958912</td>\n      <td>66.570027</td>\n      <td>-0.187892</td>\n      <td>20216.027227</td>\n    </tr>\n    <tr>\n      <th>235</th>\n      <td>Male</td>\n      <td>Poor</td>\n      <td>160.518151</td>\n      <td>52.232326</td>\n      <td>0.871014</td>\n      <td>19309.039969</td>\n    </tr>\n    <tr>\n      <th>360</th>\n      <td>Male</td>\n      <td>Poor</td>\n      <td>162.609878</td>\n      <td>79.575592</td>\n      <td>2.230224</td>\n      <td>19224.879089</td>\n    </tr>\n    <tr>\n      <th>348</th>\n      <td>Female</td>\n      <td>Middle Class</td>\n      <td>163.533033</td>\n      <td>73.422374</td>\n      <td>2.514284</td>\n      <td>21307.108306</td>\n    </tr>\n    <tr>\n      <th>168</th>\n      <td>Female</td>\n      <td>Middle Class</td>\n      <td>142.360207</td>\n      <td>63.445280</td>\n      <td>5.358839</td>\n      <td>21063.863762</td>\n    </tr>\n    <tr>\n      <th>203</th>\n      <td>Female</td>\n      <td>Middle Class</td>\n      <td>183.088169</td>\n      <td>27.056138</td>\n      <td>5.698763</td>\n      <td>20410.126177</td>\n    </tr>\n  </tbody>\n</table>\n</div>",
      "text/plain": "     Gender Economic Status      Height     Weight        Age        Income\n296    Male            Poor  123.255478  70.331061 -16.384838  20671.228701\n276  Female            Poor  180.633069  31.183331  -3.455120  20672.520893\n343  Female            Rich  135.678928  96.062215  -1.713753  20163.003977\n201    Male            Poor  136.422109  62.456833  -0.559267  21097.722893\n207    Male            Poor  156.958912  66.570027  -0.187892  20216.027227\n235    Male            Poor  160.518151  52.232326   0.871014  19309.039969\n360    Male            Poor  162.609878  79.575592   2.230224  19224.879089\n348  Female    Middle Class  163.533033  73.422374   2.514284  21307.108306\n168  Female    Middle Class  142.360207  63.445280   5.358839  21063.863762\n203  Female    Middle Class  183.088169  27.056138   5.698763  20410.126177"
     },
     "execution_count": 47,
     "metadata": {},
     "output_type": "execute_result"
    }
   ],
   "source": [
    "data_sorted.groupby('Gender').head()"
   ]
  },
  {
   "cell_type": "code",
   "execution_count": 48,
   "metadata": {},
   "outputs": [
    {
     "data": {
      "text/html": "<div>\n<style scoped>\n    .dataframe tbody tr th:only-of-type {\n        vertical-align: middle;\n    }\n\n    .dataframe tbody tr th {\n        vertical-align: top;\n    }\n\n    .dataframe thead th {\n        text-align: right;\n    }\n</style>\n<table border=\"1\" class=\"dataframe\">\n  <thead>\n    <tr style=\"text-align: right;\">\n      <th></th>\n      <th>Gender</th>\n      <th>Economic Status</th>\n      <th>Height</th>\n      <th>Weight</th>\n      <th>Age</th>\n      <th>Income</th>\n    </tr>\n  </thead>\n  <tbody>\n    <tr>\n      <th>296</th>\n      <td>Male</td>\n      <td>Poor</td>\n      <td>123.255478</td>\n      <td>70.331061</td>\n      <td>-16.384838</td>\n      <td>20671.228701</td>\n    </tr>\n    <tr>\n      <th>276</th>\n      <td>Female</td>\n      <td>Poor</td>\n      <td>180.633069</td>\n      <td>31.183331</td>\n      <td>-3.455120</td>\n      <td>20672.520893</td>\n    </tr>\n  </tbody>\n</table>\n</div>",
      "text/plain": "     Gender Economic Status      Height     Weight        Age        Income\n296    Male            Poor  123.255478  70.331061 -16.384838  20671.228701\n276  Female            Poor  180.633069  31.183331  -3.455120  20672.520893"
     },
     "execution_count": 48,
     "metadata": {},
     "output_type": "execute_result"
    }
   ],
   "source": [
    "data_sorted.groupby('Gender').head(1) # la mujer y el hombre más jovenes"
   ]
  },
  {
   "cell_type": "code",
   "execution_count": 49,
   "metadata": {},
   "outputs": [
    {
     "data": {
      "text/html": "<div>\n<style scoped>\n    .dataframe tbody tr th:only-of-type {\n        vertical-align: middle;\n    }\n\n    .dataframe tbody tr th {\n        vertical-align: top;\n    }\n\n    .dataframe thead th {\n        text-align: right;\n    }\n</style>\n<table border=\"1\" class=\"dataframe\">\n  <thead>\n    <tr style=\"text-align: right;\">\n      <th></th>\n      <th>Gender</th>\n      <th>Economic Status</th>\n      <th>Height</th>\n      <th>Weight</th>\n      <th>Age</th>\n      <th>Income</th>\n    </tr>\n  </thead>\n  <tbody>\n    <tr>\n      <th>406</th>\n      <td>Female</td>\n      <td>Middle Class</td>\n      <td>129.307473</td>\n      <td>91.732146</td>\n      <td>61.120203</td>\n      <td>18502.102948</td>\n    </tr>\n    <tr>\n      <th>334</th>\n      <td>Male</td>\n      <td>Poor</td>\n      <td>185.453650</td>\n      <td>88.858791</td>\n      <td>65.457589</td>\n      <td>18163.285737</td>\n    </tr>\n  </tbody>\n</table>\n</div>",
      "text/plain": "     Gender Economic Status      Height     Weight        Age        Income\n406  Female    Middle Class  129.307473  91.732146  61.120203  18502.102948\n334    Male            Poor  185.453650  88.858791  65.457589  18163.285737"
     },
     "execution_count": 49,
     "metadata": {},
     "output_type": "execute_result"
    }
   ],
   "source": [
    "data_sorted.groupby('Gender').tail(1) # la mujer y el hombre más mayores"
   ]
  },
  {
   "cell_type": "markdown",
   "metadata": {},
   "source": [
    "## Conjunto de entrenamiento y testing"
   ]
  },
  {
   "cell_type": "code",
   "execution_count": 3,
   "metadata": {},
   "outputs": [],
   "source": [
    "data = pd.read_csv('../python-ml-course/datasets/customer-churn-model/Customer Churn Model.txt')"
   ]
  },
  {
   "cell_type": "markdown",
   "metadata": {},
   "source": [
    "### Dividir utilizando la distribución normal"
   ]
  },
  {
   "cell_type": "code",
   "execution_count": 14,
   "metadata": {},
   "outputs": [],
   "source": [
    "a = np.random.randn(len(data))\n",
    "check = (a < 0.8) # 80% training, 20% testing"
   ]
  },
  {
   "cell_type": "code",
   "execution_count": 15,
   "metadata": {},
   "outputs": [],
   "source": [
    "training = data[check]\n",
    "testing = data[~check]"
   ]
  },
  {
   "cell_type": "markdown",
   "metadata": {},
   "source": [
    "### Con la librería sklearn"
   ]
  },
  {
   "cell_type": "code",
   "execution_count": 17,
   "metadata": {},
   "outputs": [],
   "source": [
    "from sklearn.model_selection import train_test_split # pip install scikit-learn"
   ]
  },
  {
   "cell_type": "code",
   "execution_count": 18,
   "metadata": {},
   "outputs": [
    {
     "name": "stdout",
     "output_type": "stream",
     "text": "2666 667\n"
    }
   ],
   "source": [
    "train, test = train_test_split(data, test_size = 0.2) # igual que antes\n",
    "print(len(train),len(test))"
   ]
  },
  {
   "cell_type": "markdown",
   "metadata": {},
   "source": [
    "### Usando una función shuffle (aleatorio)"
   ]
  },
  {
   "cell_type": "code",
   "execution_count": 19,
   "metadata": {},
   "outputs": [],
   "source": [
    "from sklearn.utils import shuffle"
   ]
  },
  {
   "cell_type": "code",
   "execution_count": 21,
   "metadata": {},
   "outputs": [],
   "source": [
    "data = shuffle(data) # mezclado aleatorio"
   ]
  },
  {
   "cell_type": "code",
   "execution_count": 22,
   "metadata": {},
   "outputs": [],
   "source": [
    "cut_id = int(0.90*len(data))\n",
    "train_data = data[:cut_id]\n",
    "test_data = data[cut_id+1:]"
   ]
  }
 ]
}